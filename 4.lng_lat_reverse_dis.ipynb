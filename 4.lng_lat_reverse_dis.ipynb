{
 "cells": [
  {
   "cell_type": "code",
   "execution_count": 1,
   "metadata": {},
   "outputs": [],
   "source": [
    "import pandas as pd\n",
    "import numpy as np\n",
    "import matplotlib.pyplot as plt\n",
    "import os\n",
    "import gc\n",
    "import time\n",
    "from tqdm import tqdm\n",
    "import sys\n",
    "import requests\n",
    "import json\n",
    "import re\n",
    "import warnings\n",
    "warnings.filterwarnings('ignore')"
   ]
  },
  {
   "cell_type": "code",
   "execution_count": 26,
   "metadata": {},
   "outputs": [],
   "source": [
    "# test_data = pd.read_csv('../data/test.csv')\n",
    "train_data = pd.read_csv('../data/train.csv')"
   ]
  },
  {
   "cell_type": "code",
   "execution_count": 2,
   "metadata": {},
   "outputs": [],
   "source": [
    "#　经纬度解析　\n",
    "#encoding=utf8\n",
    "import json\n",
    "import urllib.request\n",
    "import openpyxl\n",
    "import xlwt\n",
    "import time\n",
    "import datetime\n",
    "#基于百度地图API下的经纬度信息来解析地理位置信息\n",
    "def getlocation(lng,lat):\n",
    "    '''\n",
    "    \n",
    "    注意，需要将ｕｒｌ中（你的ａｋ密码）填上自己在百度开发者平台申请的ａｋ\n",
    "    认证个人开发者，每天会有３０万次的访问次数限制\n",
    "    百度开发者平台网址：http://lbsyun.baidu.com/index.php?title=%E9%A6%96%E9%A1%B5\n",
    "    \n",
    "    '''\n",
    "    url = 'http://api.map.baidu.com/reverse_geocoding/v3/?ak=(你的ａｋ密码)&output=json&coordtype=wgs84ll&location=' + lat + ','+ lng\n",
    "    # try except 防止一次请问请求不到，如果超时，则等待５秒访问第二次，还超时，继续等待５秒再进行访问，一般两次就会得到请求\n",
    "    try:\n",
    "        req = urllib.request.urlopen(url,timeout = 5)  # json格式的返回数据\n",
    "    except:\n",
    "        time.sleep(5)\n",
    "        try:\n",
    "            req = urllib.request.urlopen(url,timeout = 5)\n",
    "        except:\n",
    "            time.sleep(5)\n",
    "            try:\n",
    "                req = urllib.request.urlopen(url)\n",
    "            except:\n",
    "                pass\n",
    "            \n",
    "    res = req.read().decode(\"utf-8\")  # 将其他编码的字符串解码成unicode\n",
    "    return json.loads(res)\n",
    "\n",
    "def jsonFormat(lng,lat):\n",
    "    \n",
    "    str_d = getlocation(lng,lat)\n",
    "    dictjson={}#声明一个字典\n",
    "    #get()获取json里面的数据\n",
    "    jsonResult = str_d.get('result')\n",
    "    while(jsonResult == None):\n",
    "        str_d = getlocation(lng,lat)\n",
    "        dictjson={}#声明一个字典\n",
    "        #get()获取json里面的数据\n",
    "        jsonResult = str_d.get('result')\n",
    "        \n",
    "   \n",
    "    address = jsonResult.get('addressComponent')\n",
    "    #国家\n",
    "    country = address.get('country')\n",
    "    #国家编号（0：中国）\n",
    "    country_code = address.get('country_code')\n",
    "    #省\n",
    "    province = address.get('province')\n",
    "    #城市\n",
    "    city = address.get('city')\n",
    "    #城市等级\n",
    "    city_level = address.get('city_level')\n",
    "    #县级\n",
    "    district = address.get('district')\n",
    "    #把获取到的值，添加到字典里（添加）\n",
    "    # dictjson['country']=country\n",
    "    # dictjson['country_code'] = country_code\n",
    "    dictjson['province'] = province\n",
    "    dictjson['city'] = city\n",
    "    dictjson['district'] = district\n",
    "    return dictjson\n"
   ]
  },
  {
   "cell_type": "markdown",
   "metadata": {},
   "source": [
    "# train经纬度反解地址\n",
    "## 百度ａｐｉ有限制一天３０万次的访问"
   ]
  },
  {
   "cell_type": "code",
   "execution_count": 27,
   "metadata": {},
   "outputs": [
    {
     "name": "stdout",
     "output_type": "stream",
     "text": [
      "11376681\n",
      "369682\n"
     ]
    }
   ],
   "source": [
    "df_train = train_data.copy()\n",
    "df_train = df_train.drop_duplicates(['lng','lat']).reset_index(drop = True)\n",
    "dis_result = pd.DataFrame()\n",
    "print(train_data.shape[0])\n",
    "print(df_train.shape[0])"
   ]
  },
  {
   "cell_type": "code",
   "execution_count": null,
   "metadata": {},
   "outputs": [],
   "source": [
    "# 百度ａｐｉ一天可一访问３０万次\n",
    "\n",
    "begin=datetime.datetime.now()\n",
    "for i in range(df_train.shape[0]):  # 打印1-2行，1-2列中的内容\n",
    "\n",
    "    lng = df_train.loc[i,'lng']\n",
    "    lat = df_train.loc[i,'lat']\n",
    "    temp_dis_result = jsonFormat(str(lng),str(lat))\n",
    "    print(i,temp_dis_result)\n",
    "    dis_result.loc[i,'lng_lat'] = str(lng)+'_'+str(lat)\n",
    "    dis_result.loc[i,'province'] = temp_dis_result['province']\n",
    "    dis_result.loc[i,'city'] = temp_dis_result['city']\n",
    "    dis_result.loc[i,'district'] = temp_dis_result['district']\n",
    "\n",
    "end=datetime.datetime.now()\n",
    "dur=end-begin\n",
    "print(begin)\n",
    "print(end)\n",
    "print(dur)\n",
    "dis_result.to_csv('train_lng_lat_reverse.csv',index = False)\n"
   ]
  },
  {
   "cell_type": "markdown",
   "metadata": {},
   "source": [
    "# test 经纬度反解地址"
   ]
  },
  {
   "cell_type": "code",
   "execution_count": null,
   "metadata": {},
   "outputs": [],
   "source": [
    "df_test = test_data.copy()\n",
    "df_test = df_test.drop_duplicates(['lng','lat']).reset_index(drop = True)\n",
    "dis_result = pd.DataFrame()\n",
    "print(test_data.shape[0])\n",
    "print(df_test.shape[0])"
   ]
  },
  {
   "cell_type": "code",
   "execution_count": null,
   "metadata": {},
   "outputs": [],
   "source": [
    "begin=datetime.datetime.now()\n",
    "for i in range(df_test.shape[0]):  # 打印1-2行，1-2列中的内容\n",
    "\n",
    "    lng = df_train.loc[i,'lng']\n",
    "    lat = df_train.loc[i,'lat']\n",
    "    temp_dis_result = jsonFormat(str(lng),str(lat))\n",
    "    print(i,temp_dis_result)\n",
    "    dis_result.loc[i,'lng_lat'] = str(lng)+'_'+str(lat)\n",
    "    dis_result.loc[i,'province'] = temp_dis_result['province']\n",
    "    dis_result.loc[i,'city'] = temp_dis_result['city']\n",
    "    dis_result.loc[i,'district'] = temp_dis_result['district']\n",
    "\n",
    "end=datetime.datetime.now()\n",
    "dur=end-begin\n",
    "print(begin)\n",
    "print(end)\n",
    "print(dur)\n",
    "dis_result.to_csv('test_lng_lat_reverse.csv',index = False)\n"
   ]
  },
  {
   "cell_type": "code",
   "execution_count": 2,
   "metadata": {},
   "outputs": [],
   "source": [
    "a = pd.read_csv('../pickle/test_lng_lat_reverse.csv')"
   ]
  },
  {
   "cell_type": "code",
   "execution_count": 3,
   "metadata": {},
   "outputs": [
    {
     "data": {
      "text/html": [
       "<div>\n",
       "<style scoped>\n",
       "    .dataframe tbody tr th:only-of-type {\n",
       "        vertical-align: middle;\n",
       "    }\n",
       "\n",
       "    .dataframe tbody tr th {\n",
       "        vertical-align: top;\n",
       "    }\n",
       "\n",
       "    .dataframe thead th {\n",
       "        text-align: right;\n",
       "    }\n",
       "</style>\n",
       "<table border=\"1\" class=\"dataframe\">\n",
       "  <thead>\n",
       "    <tr style=\"text-align: right;\">\n",
       "      <th></th>\n",
       "      <th>lng_lat</th>\n",
       "      <th>province</th>\n",
       "      <th>city</th>\n",
       "      <th>district</th>\n",
       "    </tr>\n",
       "  </thead>\n",
       "  <tbody>\n",
       "    <tr>\n",
       "      <th>0</th>\n",
       "      <td>116.750876_36.56831</td>\n",
       "      <td>山东省</td>\n",
       "      <td>济南市</td>\n",
       "      <td>长清区</td>\n",
       "    </tr>\n",
       "    <tr>\n",
       "      <th>1</th>\n",
       "      <td>116.750867_36.56832</td>\n",
       "      <td>山东省</td>\n",
       "      <td>济南市</td>\n",
       "      <td>长清区</td>\n",
       "    </tr>\n",
       "    <tr>\n",
       "      <th>2</th>\n",
       "      <td>116.75086599999999_36.568292</td>\n",
       "      <td>山东省</td>\n",
       "      <td>济南市</td>\n",
       "      <td>长清区</td>\n",
       "    </tr>\n",
       "    <tr>\n",
       "      <th>3</th>\n",
       "      <td>116.75088000000001_36.5683</td>\n",
       "      <td>山东省</td>\n",
       "      <td>济南市</td>\n",
       "      <td>长清区</td>\n",
       "    </tr>\n",
       "    <tr>\n",
       "      <th>4</th>\n",
       "      <td>120.719481_30.753226</td>\n",
       "      <td>浙江省</td>\n",
       "      <td>嘉兴市</td>\n",
       "      <td>南湖区</td>\n",
       "    </tr>\n",
       "  </tbody>\n",
       "</table>\n",
       "</div>"
      ],
      "text/plain": [
       "                        lng_lat province city district\n",
       "0           116.750876_36.56831      山东省  济南市      长清区\n",
       "1           116.750867_36.56832      山东省  济南市      长清区\n",
       "2  116.75086599999999_36.568292      山东省  济南市      长清区\n",
       "3    116.75088000000001_36.5683      山东省  济南市      长清区\n",
       "4          120.719481_30.753226      浙江省  嘉兴市      南湖区"
      ]
     },
     "execution_count": 3,
     "metadata": {},
     "output_type": "execute_result"
    }
   ],
   "source": [
    "a.head()"
   ]
  },
  {
   "cell_type": "code",
   "execution_count": null,
   "metadata": {},
   "outputs": [],
   "source": []
  }
 ],
 "metadata": {
  "kernelspec": {
   "display_name": "Python 3",
   "language": "python",
   "name": "python3"
  },
  "language_info": {
   "codemirror_mode": {
    "name": "ipython",
    "version": 3
   },
   "file_extension": ".py",
   "mimetype": "text/x-python",
   "name": "python",
   "nbconvert_exporter": "python",
   "pygments_lexer": "ipython3",
   "version": "3.6.8"
  }
 },
 "nbformat": 4,
 "nbformat_minor": 2
}
