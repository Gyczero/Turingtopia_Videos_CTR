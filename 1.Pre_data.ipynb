{
 "cells": [
  {
   "cell_type": "code",
   "execution_count": 1,
   "metadata": {},
   "outputs": [],
   "source": [
    "import pandas as pd\n",
    "import numpy as np\n",
    "import matplotlib.pyplot as plt\n",
    "import os\n",
    "import gc\n",
    "import time\n",
    "from tqdm import tqdm\n",
    "import sys\n",
    "import requests\n",
    "import json\n",
    "import re\n",
    "import warnings\n",
    "warnings.filterwarnings('ignore')"
   ]
  },
  {
   "cell_type": "code",
   "execution_count": 2,
   "metadata": {},
   "outputs": [],
   "source": [
    "app_data = pd.read_csv('../data/app.csv')\n",
    "sample_data = pd.read_csv('../data/sample.csv')\n",
    "test_data = pd.read_csv('../data/test.csv')\n",
    "train_data = pd.read_csv('../data/train.csv')\n",
    "user_data = pd.read_csv('../data/user.csv')"
   ]
  },
  {
   "cell_type": "code",
   "execution_count": 3,
   "metadata": {},
   "outputs": [],
   "source": [
    "pickle_path = \"../pickle\"\n",
    "if not os.path.exists(pickle_path):\n",
    "    os.mkdir(pickle_path)"
   ]
  },
  {
   "cell_type": "markdown",
   "metadata": {},
   "source": [
    "# 处理app_data"
   ]
  },
  {
   "cell_type": "code",
   "execution_count": 4,
   "metadata": {},
   "outputs": [
    {
     "data": {
      "text/html": [
       "<div>\n",
       "<style scoped>\n",
       "    .dataframe tbody tr th:only-of-type {\n",
       "        vertical-align: middle;\n",
       "    }\n",
       "\n",
       "    .dataframe tbody tr th {\n",
       "        vertical-align: top;\n",
       "    }\n",
       "\n",
       "    .dataframe thead th {\n",
       "        text-align: right;\n",
       "    }\n",
       "</style>\n",
       "<table border=\"1\" class=\"dataframe\">\n",
       "  <thead>\n",
       "    <tr style=\"text-align: right;\">\n",
       "      <th></th>\n",
       "      <th>deviceid</th>\n",
       "      <th>applist</th>\n",
       "    </tr>\n",
       "  </thead>\n",
       "  <tbody>\n",
       "    <tr>\n",
       "      <th>0</th>\n",
       "      <td>832aaa33cdf4a0938ba2c795eb3ffefd</td>\n",
       "      <td>[app_1 app_2 app_3 app_4 app_5 app_6 app_7 app...</td>\n",
       "    </tr>\n",
       "    <tr>\n",
       "      <th>1</th>\n",
       "      <td>67dd9dac18cce1a6d79e8f20eefd98ab</td>\n",
       "      <td>[app_84 app_85 app_4 app_5 app_86 app_87 app_8...</td>\n",
       "    </tr>\n",
       "    <tr>\n",
       "      <th>2</th>\n",
       "      <td>ddaa88b573f0ec579486de4df7852871</td>\n",
       "      <td>[app_133 ]</td>\n",
       "    </tr>\n",
       "    <tr>\n",
       "      <th>3</th>\n",
       "      <td>132cc4746b2ca645b37d64717bf2ccbd</td>\n",
       "      <td>[app_133 ]</td>\n",
       "    </tr>\n",
       "    <tr>\n",
       "      <th>4</th>\n",
       "      <td>19ffd9b567a0a0863a72aee342d2ce9d</td>\n",
       "      <td>[app_1 app_2 app_3 app_4 app_5 app_6 app_7 app...</td>\n",
       "    </tr>\n",
       "  </tbody>\n",
       "</table>\n",
       "</div>"
      ],
      "text/plain": [
       "                           deviceid  \\\n",
       "0  832aaa33cdf4a0938ba2c795eb3ffefd   \n",
       "1  67dd9dac18cce1a6d79e8f20eefd98ab   \n",
       "2  ddaa88b573f0ec579486de4df7852871   \n",
       "3  132cc4746b2ca645b37d64717bf2ccbd   \n",
       "4  19ffd9b567a0a0863a72aee342d2ce9d   \n",
       "\n",
       "                                             applist  \n",
       "0  [app_1 app_2 app_3 app_4 app_5 app_6 app_7 app...  \n",
       "1  [app_84 app_85 app_4 app_5 app_86 app_87 app_8...  \n",
       "2                                         [app_133 ]  \n",
       "3                                         [app_133 ]  \n",
       "4  [app_1 app_2 app_3 app_4 app_5 app_6 app_7 app...  "
      ]
     },
     "execution_count": 4,
     "metadata": {},
     "output_type": "execute_result"
    }
   ],
   "source": [
    "'''\n",
    "app.csv包含114584条数据，\n",
    "2个字段：deviceid，applist\n",
    "deviceid：用户设备id \n",
    "applist：用户所拥有的app\n",
    "我们已将app的名字设置成了app_1,app_2..的形式。\n",
    "'''\n",
    "app_data.head()"
   ]
  },
  {
   "cell_type": "code",
   "execution_count": 5,
   "metadata": {},
   "outputs": [
    {
     "data": {
      "text/plain": [
       "deviceid    False\n",
       "applist     False\n",
       "dtype: bool"
      ]
     },
     "execution_count": 5,
     "metadata": {},
     "output_type": "execute_result"
    }
   ],
   "source": [
    "app_data.isnull().any()"
   ]
  },
  {
   "cell_type": "code",
   "execution_count": 6,
   "metadata": {},
   "outputs": [],
   "source": [
    "def flatten_app(df):    \n",
    "    u = []\n",
    "    a = []\n",
    "    for i in tqdm(range(len(df['deviceid'].values))):\n",
    "        u += [df['deviceid'].values[i]]*df['app_len'].values[i]\n",
    "        a += list(df['applist'].values[i])\n",
    "        \n",
    "    new_df = pd.DataFrame()\n",
    "    new_df['deviceid'] = u\n",
    "    new_df['applist'] = a\n",
    "        \n",
    "    return new_df"
   ]
  },
  {
   "cell_type": "code",
   "execution_count": 49,
   "metadata": {},
   "outputs": [],
   "source": [
    "new_app_data = app_data.groupby(by='deviceid').sum() "
   ]
  },
  {
   "cell_type": "code",
   "execution_count": 50,
   "metadata": {},
   "outputs": [
    {
     "data": {
      "text/html": [
       "<div>\n",
       "<style scoped>\n",
       "    .dataframe tbody tr th:only-of-type {\n",
       "        vertical-align: middle;\n",
       "    }\n",
       "\n",
       "    .dataframe tbody tr th {\n",
       "        vertical-align: top;\n",
       "    }\n",
       "\n",
       "    .dataframe thead th {\n",
       "        text-align: right;\n",
       "    }\n",
       "</style>\n",
       "<table border=\"1\" class=\"dataframe\">\n",
       "  <thead>\n",
       "    <tr style=\"text-align: right;\">\n",
       "      <th></th>\n",
       "      <th>applist</th>\n",
       "    </tr>\n",
       "    <tr>\n",
       "      <th>deviceid</th>\n",
       "      <th></th>\n",
       "    </tr>\n",
       "  </thead>\n",
       "  <tbody>\n",
       "    <tr>\n",
       "      <th>000046581b8a28c431be90c278674925</th>\n",
       "      <td>[app_133 ][app_1 ]</td>\n",
       "    </tr>\n",
       "    <tr>\n",
       "      <th>00016381ab699d4e76dc99291e79e7a1</th>\n",
       "      <td>[app_133 ]</td>\n",
       "    </tr>\n",
       "    <tr>\n",
       "      <th>0001c7e6a85a3a4498fe0c5f29f3a379</th>\n",
       "      <td>[app_133 ]</td>\n",
       "    </tr>\n",
       "    <tr>\n",
       "      <th>000207c515d01c00e9144c6866b546a7</th>\n",
       "      <td>[app_133 ][app_1 ]</td>\n",
       "    </tr>\n",
       "    <tr>\n",
       "      <th>000355d66e3fe127c8c2dd1ef60322a3</th>\n",
       "      <td>[app_84 app_85 app_4 app_5 app_86 app_87 app_8...</td>\n",
       "    </tr>\n",
       "  </tbody>\n",
       "</table>\n",
       "</div>"
      ],
      "text/plain": [
       "                                                                            applist\n",
       "deviceid                                                                           \n",
       "000046581b8a28c431be90c278674925                                 [app_133 ][app_1 ]\n",
       "00016381ab699d4e76dc99291e79e7a1                                         [app_133 ]\n",
       "0001c7e6a85a3a4498fe0c5f29f3a379                                         [app_133 ]\n",
       "000207c515d01c00e9144c6866b546a7                                 [app_133 ][app_1 ]\n",
       "000355d66e3fe127c8c2dd1ef60322a3  [app_84 app_85 app_4 app_5 app_86 app_87 app_8..."
      ]
     },
     "execution_count": 50,
     "metadata": {},
     "output_type": "execute_result"
    }
   ],
   "source": [
    "new_app_data.head()"
   ]
  },
  {
   "cell_type": "code",
   "execution_count": 51,
   "metadata": {},
   "outputs": [
    {
     "name": "stderr",
     "output_type": "stream",
     "text": [
      "100%|██████████| 114584/114584 [00:00<00:00, 126233.81it/s]\n"
     ]
    }
   ],
   "source": [
    "new_app_data['applist'] = new_app_data['applist'].map(lambda x:x.replace('][','').replace('[','').replace(' ]','').split(' '))\n",
    "new_app_data['app_len'] =  new_app_data['applist'].map(lambda x:len(x))\n",
    "new_app_data.reset_index(inplace = True)\n",
    "deal_new_app_data = flatten_app(new_app_data)"
   ]
  },
  {
   "cell_type": "code",
   "execution_count": 52,
   "metadata": {},
   "outputs": [
    {
     "data": {
      "text/plain": [
       "(114584,)"
      ]
     },
     "execution_count": 52,
     "metadata": {},
     "output_type": "execute_result"
    }
   ],
   "source": [
    "new_app_data['deviceid'].unique().shape"
   ]
  },
  {
   "cell_type": "code",
   "execution_count": 53,
   "metadata": {},
   "outputs": [
    {
     "data": {
      "text/plain": [
       "(114584, 3)"
      ]
     },
     "execution_count": 53,
     "metadata": {},
     "output_type": "execute_result"
    }
   ],
   "source": [
    "new_app_data.shape"
   ]
  },
  {
   "cell_type": "code",
   "execution_count": 54,
   "metadata": {},
   "outputs": [
    {
     "data": {
      "text/html": [
       "<div>\n",
       "<style scoped>\n",
       "    .dataframe tbody tr th:only-of-type {\n",
       "        vertical-align: middle;\n",
       "    }\n",
       "\n",
       "    .dataframe tbody tr th {\n",
       "        vertical-align: top;\n",
       "    }\n",
       "\n",
       "    .dataframe thead th {\n",
       "        text-align: right;\n",
       "    }\n",
       "</style>\n",
       "<table border=\"1\" class=\"dataframe\">\n",
       "  <thead>\n",
       "    <tr style=\"text-align: right;\">\n",
       "      <th></th>\n",
       "      <th>deviceid</th>\n",
       "      <th>applist</th>\n",
       "    </tr>\n",
       "  </thead>\n",
       "  <tbody>\n",
       "    <tr>\n",
       "      <th>0</th>\n",
       "      <td>000046581b8a28c431be90c278674925</td>\n",
       "      <td>app_133</td>\n",
       "    </tr>\n",
       "    <tr>\n",
       "      <th>1</th>\n",
       "      <td>000046581b8a28c431be90c278674925</td>\n",
       "      <td>app_1</td>\n",
       "    </tr>\n",
       "    <tr>\n",
       "      <th>2</th>\n",
       "      <td>00016381ab699d4e76dc99291e79e7a1</td>\n",
       "      <td>app_133</td>\n",
       "    </tr>\n",
       "    <tr>\n",
       "      <th>3</th>\n",
       "      <td>0001c7e6a85a3a4498fe0c5f29f3a379</td>\n",
       "      <td>app_133</td>\n",
       "    </tr>\n",
       "    <tr>\n",
       "      <th>4</th>\n",
       "      <td>000207c515d01c00e9144c6866b546a7</td>\n",
       "      <td>app_133</td>\n",
       "    </tr>\n",
       "    <tr>\n",
       "      <th>...</th>\n",
       "      <td>...</td>\n",
       "      <td>...</td>\n",
       "    </tr>\n",
       "    <tr>\n",
       "      <th>2163211</th>\n",
       "      <td>ffff31901148627b225fbb434e19ab06</td>\n",
       "      <td>app_83</td>\n",
       "    </tr>\n",
       "    <tr>\n",
       "      <th>2163212</th>\n",
       "      <td>ffff31901148627b225fbb434e19ab06</td>\n",
       "      <td>app_1</td>\n",
       "    </tr>\n",
       "    <tr>\n",
       "      <th>2163213</th>\n",
       "      <td>ffffcb1db65dd1fdc4d09f8c3bbab2ea</td>\n",
       "      <td>app_133</td>\n",
       "    </tr>\n",
       "    <tr>\n",
       "      <th>2163214</th>\n",
       "      <td>ffffe5944124a7b7656faa8610ba58d9</td>\n",
       "      <td>app_133</td>\n",
       "    </tr>\n",
       "    <tr>\n",
       "      <th>2163215</th>\n",
       "      <td>ffffe5944124a7b7656faa8610ba58d9</td>\n",
       "      <td>app_1</td>\n",
       "    </tr>\n",
       "  </tbody>\n",
       "</table>\n",
       "<p>2163216 rows × 2 columns</p>\n",
       "</div>"
      ],
      "text/plain": [
       "                                 deviceid  applist\n",
       "0        000046581b8a28c431be90c278674925  app_133\n",
       "1        000046581b8a28c431be90c278674925    app_1\n",
       "2        00016381ab699d4e76dc99291e79e7a1  app_133\n",
       "3        0001c7e6a85a3a4498fe0c5f29f3a379  app_133\n",
       "4        000207c515d01c00e9144c6866b546a7  app_133\n",
       "...                                   ...      ...\n",
       "2163211  ffff31901148627b225fbb434e19ab06   app_83\n",
       "2163212  ffff31901148627b225fbb434e19ab06    app_1\n",
       "2163213  ffffcb1db65dd1fdc4d09f8c3bbab2ea  app_133\n",
       "2163214  ffffe5944124a7b7656faa8610ba58d9  app_133\n",
       "2163215  ffffe5944124a7b7656faa8610ba58d9    app_1\n",
       "\n",
       "[2163216 rows x 2 columns]"
      ]
     },
     "execution_count": 54,
     "metadata": {},
     "output_type": "execute_result"
    }
   ],
   "source": [
    "deal_new_app_data"
   ]
  },
  {
   "cell_type": "code",
   "execution_count": 56,
   "metadata": {},
   "outputs": [
    {
     "name": "stdout",
     "output_type": "stream",
     "text": [
      "ACTIVE TO PICKLE:  0.5183968544006348\n"
     ]
    }
   ],
   "source": [
    "if not os.path.exists(\"{}/device_new_app.pickle\".format(pickle_path)):\n",
    "    t1 = time.time()\n",
    "    new_app_data.to_pickle(\"{}/device_new_app.pickle\".format(pickle_path))\n",
    "    print('ACTIVE TO PICKLE: ',time.time()-t1)"
   ]
  },
  {
   "cell_type": "code",
   "execution_count": 55,
   "metadata": {},
   "outputs": [
    {
     "name": "stdout",
     "output_type": "stream",
     "text": [
      "ACTIVE TO PICKLE:  0.5924808979034424\n"
     ]
    }
   ],
   "source": [
    "if not os.path.exists(\"{}/deal_device_new_app.pickle\".format(pickle_path)):\n",
    "    t1 = time.time()\n",
    "    deal_new_app_data.to_pickle(\"{}/deal_device_new_app.pickle\".format(pickle_path))\n",
    "    print('ACTIVE TO PICKLE: ',time.time()-t1)"
   ]
  },
  {
   "cell_type": "markdown",
   "metadata": {},
   "source": [
    "# sample_data 提交示例"
   ]
  },
  {
   "cell_type": "code",
   "execution_count": 4,
   "metadata": {},
   "outputs": [
    {
     "data": {
      "text/html": [
       "<div>\n",
       "<style scoped>\n",
       "    .dataframe tbody tr th:only-of-type {\n",
       "        vertical-align: middle;\n",
       "    }\n",
       "\n",
       "    .dataframe tbody tr th {\n",
       "        vertical-align: top;\n",
       "    }\n",
       "\n",
       "    .dataframe thead th {\n",
       "        text-align: right;\n",
       "    }\n",
       "</style>\n",
       "<table border=\"1\" class=\"dataframe\">\n",
       "  <thead>\n",
       "    <tr style=\"text-align: right;\">\n",
       "      <th></th>\n",
       "      <th>id</th>\n",
       "      <th>target</th>\n",
       "    </tr>\n",
       "  </thead>\n",
       "  <tbody>\n",
       "    <tr>\n",
       "      <th>0</th>\n",
       "      <td>test_1</td>\n",
       "      <td>0</td>\n",
       "    </tr>\n",
       "    <tr>\n",
       "      <th>1</th>\n",
       "      <td>test_2</td>\n",
       "      <td>1</td>\n",
       "    </tr>\n",
       "    <tr>\n",
       "      <th>2</th>\n",
       "      <td>test_3</td>\n",
       "      <td>0</td>\n",
       "    </tr>\n",
       "    <tr>\n",
       "      <th>3</th>\n",
       "      <td>test_4</td>\n",
       "      <td>1</td>\n",
       "    </tr>\n",
       "    <tr>\n",
       "      <th>4</th>\n",
       "      <td>test_5</td>\n",
       "      <td>0</td>\n",
       "    </tr>\n",
       "  </tbody>\n",
       "</table>\n",
       "</div>"
      ],
      "text/plain": [
       "       id  target\n",
       "0  test_1       0\n",
       "1  test_2       1\n",
       "2  test_3       0\n",
       "3  test_4       1\n",
       "4  test_5       0"
      ]
     },
     "execution_count": 4,
     "metadata": {},
     "output_type": "execute_result"
    }
   ],
   "source": [
    "'''\n",
    "sample.csv为提交答案的格式，\n",
    "id列和test.csv中的id列是对应关系，\n",
    "target列为您预测的该视频是否会被点击，\n",
    "1为点击0为未点击。 \n",
    "'''\n",
    "sample_data.head()"
   ]
  },
  {
   "cell_type": "markdown",
   "metadata": {},
   "source": [
    "# ｔｅｓｔ　　ｄａｔａ"
   ]
  },
  {
   "cell_type": "code",
   "execution_count": 4,
   "metadata": {},
   "outputs": [
    {
     "data": {
      "text/html": [
       "<div>\n",
       "<style scoped>\n",
       "    .dataframe tbody tr th:only-of-type {\n",
       "        vertical-align: middle;\n",
       "    }\n",
       "\n",
       "    .dataframe tbody tr th {\n",
       "        vertical-align: top;\n",
       "    }\n",
       "\n",
       "    .dataframe thead th {\n",
       "        text-align: right;\n",
       "    }\n",
       "</style>\n",
       "<table border=\"1\" class=\"dataframe\">\n",
       "  <thead>\n",
       "    <tr style=\"text-align: right;\">\n",
       "      <th></th>\n",
       "      <th>id</th>\n",
       "      <th>deviceid</th>\n",
       "      <th>newsid</th>\n",
       "      <th>guid</th>\n",
       "      <th>pos</th>\n",
       "      <th>app_version</th>\n",
       "      <th>device_vendor</th>\n",
       "      <th>netmodel</th>\n",
       "      <th>osversion</th>\n",
       "      <th>lng</th>\n",
       "      <th>lat</th>\n",
       "      <th>device_version</th>\n",
       "      <th>ts</th>\n",
       "    </tr>\n",
       "  </thead>\n",
       "  <tbody>\n",
       "    <tr>\n",
       "      <th>0</th>\n",
       "      <td>test_1</td>\n",
       "      <td>67dd9dac18cce1a6d79e8f20eefd98ab</td>\n",
       "      <td>1154231839239097584</td>\n",
       "      <td>625dc45744f59ddbc3ec8df161217188</td>\n",
       "      <td>1</td>\n",
       "      <td>2.1.1</td>\n",
       "      <td>xiaomi</td>\n",
       "      <td>w</td>\n",
       "      <td>9</td>\n",
       "      <td>116.750876</td>\n",
       "      <td>36.568310</td>\n",
       "      <td>Redmi Note 7</td>\n",
       "      <td>1573421928698</td>\n",
       "    </tr>\n",
       "    <tr>\n",
       "      <th>1</th>\n",
       "      <td>test_2</td>\n",
       "      <td>67dd9dac18cce1a6d79e8f20eefd98ab</td>\n",
       "      <td>1703600900425186754</td>\n",
       "      <td>625dc45744f59ddbc3ec8df161217188</td>\n",
       "      <td>0</td>\n",
       "      <td>2.1.1</td>\n",
       "      <td>xiaomi</td>\n",
       "      <td>o</td>\n",
       "      <td>9</td>\n",
       "      <td>116.750867</td>\n",
       "      <td>36.568320</td>\n",
       "      <td>Redmi Note 7</td>\n",
       "      <td>1573421928703</td>\n",
       "    </tr>\n",
       "    <tr>\n",
       "      <th>2</th>\n",
       "      <td>test_3</td>\n",
       "      <td>67dd9dac18cce1a6d79e8f20eefd98ab</td>\n",
       "      <td>5061374784471997927</td>\n",
       "      <td>625dc45744f59ddbc3ec8df161217188</td>\n",
       "      <td>2</td>\n",
       "      <td>2.1.1</td>\n",
       "      <td>xiaomi</td>\n",
       "      <td>w</td>\n",
       "      <td>9</td>\n",
       "      <td>116.750866</td>\n",
       "      <td>36.568292</td>\n",
       "      <td>Redmi Note 7</td>\n",
       "      <td>1573423322908</td>\n",
       "    </tr>\n",
       "    <tr>\n",
       "      <th>3</th>\n",
       "      <td>test_4</td>\n",
       "      <td>67dd9dac18cce1a6d79e8f20eefd98ab</td>\n",
       "      <td>5678985365124870302</td>\n",
       "      <td>625dc45744f59ddbc3ec8df161217188</td>\n",
       "      <td>1</td>\n",
       "      <td>2.1.1</td>\n",
       "      <td>xiaomi</td>\n",
       "      <td>w</td>\n",
       "      <td>9</td>\n",
       "      <td>116.750866</td>\n",
       "      <td>36.568292</td>\n",
       "      <td>Redmi Note 7</td>\n",
       "      <td>1573423323068</td>\n",
       "    </tr>\n",
       "    <tr>\n",
       "      <th>4</th>\n",
       "      <td>test_5</td>\n",
       "      <td>67dd9dac18cce1a6d79e8f20eefd98ab</td>\n",
       "      <td>7231570878174745072</td>\n",
       "      <td>625dc45744f59ddbc3ec8df161217188</td>\n",
       "      <td>0</td>\n",
       "      <td>2.1.1</td>\n",
       "      <td>xiaomi</td>\n",
       "      <td>o</td>\n",
       "      <td>9</td>\n",
       "      <td>116.750880</td>\n",
       "      <td>36.568300</td>\n",
       "      <td>Redmi Note 7</td>\n",
       "      <td>1573423196460</td>\n",
       "    </tr>\n",
       "  </tbody>\n",
       "</table>\n",
       "</div>"
      ],
      "text/plain": [
       "       id                          deviceid               newsid  \\\n",
       "0  test_1  67dd9dac18cce1a6d79e8f20eefd98ab  1154231839239097584   \n",
       "1  test_2  67dd9dac18cce1a6d79e8f20eefd98ab  1703600900425186754   \n",
       "2  test_3  67dd9dac18cce1a6d79e8f20eefd98ab  5061374784471997927   \n",
       "3  test_4  67dd9dac18cce1a6d79e8f20eefd98ab  5678985365124870302   \n",
       "4  test_5  67dd9dac18cce1a6d79e8f20eefd98ab  7231570878174745072   \n",
       "\n",
       "                               guid  pos app_version device_vendor netmodel  \\\n",
       "0  625dc45744f59ddbc3ec8df161217188    1       2.1.1        xiaomi        w   \n",
       "1  625dc45744f59ddbc3ec8df161217188    0       2.1.1        xiaomi        o   \n",
       "2  625dc45744f59ddbc3ec8df161217188    2       2.1.1        xiaomi        w   \n",
       "3  625dc45744f59ddbc3ec8df161217188    1       2.1.1        xiaomi        w   \n",
       "4  625dc45744f59ddbc3ec8df161217188    0       2.1.1        xiaomi        o   \n",
       "\n",
       "  osversion         lng        lat device_version             ts  \n",
       "0         9  116.750876  36.568310   Redmi Note 7  1573421928698  \n",
       "1         9  116.750867  36.568320   Redmi Note 7  1573421928703  \n",
       "2         9  116.750866  36.568292   Redmi Note 7  1573423322908  \n",
       "3         9  116.750866  36.568292   Redmi Note 7  1573423323068  \n",
       "4         9  116.750880  36.568300   Redmi Note 7  1573423196460  "
      ]
     },
     "execution_count": 4,
     "metadata": {},
     "output_type": "execute_result"
    }
   ],
   "source": [
    "'''\n",
    "test.csv包含3653592条数据\n",
    "13个字段：id,deviceid,newsid,guid,\n",
    "        pos,app_version,device_vendor,\n",
    "        netmodel,osversion,lng,lat,\n",
    "        device_version,ts \n",
    "id：代表数据集的第几条数据，从test_1到test_3653592。 \n",
    "deviceid：用户的设备id。 \n",
    "newsid：视频的id。 \n",
    "guid：用户的注册id。 \n",
    "pos：视频推荐位置。 \n",
    "app_version：app版本。 \n",
    "device_vendor：设备厂商。 \n",
    "netmodel：网络类型。 \n",
    "osversion：操作系统版本。 \n",
    "lng：经度。 \n",
    "lat：维度。 \n",
    "device_version：设备版本。 \n",
    "ts：视频暴光给用户的时间戳。\n",
    "'''\n",
    "test_data.head()"
   ]
  },
  {
   "cell_type": "code",
   "execution_count": null,
   "metadata": {},
   "outputs": [],
   "source": [
    "test_data['deviceid'].unique().shape"
   ]
  },
  {
   "cell_type": "code",
   "execution_count": 97,
   "metadata": {},
   "outputs": [
    {
     "data": {
      "text/plain": [
       "(626908,)"
      ]
     },
     "execution_count": 97,
     "metadata": {},
     "output_type": "execute_result"
    }
   ],
   "source": [
    "test_data['newsid'].unique().shape"
   ]
  },
  {
   "cell_type": "code",
   "execution_count": 99,
   "metadata": {},
   "outputs": [
    {
     "name": "stdout",
     "output_type": "stream",
     "text": [
      "ACTIVE TO PICKLE:  12.503127574920654\n"
     ]
    }
   ],
   "source": [
    "if not os.path.exists(\"{}/test_data.pickle\".format(pickle_path)):\n",
    "    t1 = time.time()\n",
    "    test_data.to_pickle(\"{}/test_data.pickle\".format(pickle_path))\n",
    "    print('ACTIVE TO PICKLE: ',time.time()-t1)"
   ]
  },
  {
   "cell_type": "markdown",
   "metadata": {},
   "source": [
    "# train ｄａｔａ"
   ]
  },
  {
   "cell_type": "code",
   "execution_count": 6,
   "metadata": {},
   "outputs": [
    {
     "data": {
      "text/html": [
       "<div>\n",
       "<style scoped>\n",
       "    .dataframe tbody tr th:only-of-type {\n",
       "        vertical-align: middle;\n",
       "    }\n",
       "\n",
       "    .dataframe tbody tr th {\n",
       "        vertical-align: top;\n",
       "    }\n",
       "\n",
       "    .dataframe thead th {\n",
       "        text-align: right;\n",
       "    }\n",
       "</style>\n",
       "<table border=\"1\" class=\"dataframe\">\n",
       "  <thead>\n",
       "    <tr style=\"text-align: right;\">\n",
       "      <th></th>\n",
       "      <th>id</th>\n",
       "      <th>target</th>\n",
       "      <th>timestamp</th>\n",
       "      <th>deviceid</th>\n",
       "      <th>newsid</th>\n",
       "      <th>guid</th>\n",
       "      <th>pos</th>\n",
       "      <th>app_version</th>\n",
       "      <th>device_vendor</th>\n",
       "      <th>netmodel</th>\n",
       "      <th>osversion</th>\n",
       "      <th>lng</th>\n",
       "      <th>lat</th>\n",
       "      <th>device_version</th>\n",
       "      <th>ts</th>\n",
       "    </tr>\n",
       "  </thead>\n",
       "  <tbody>\n",
       "    <tr>\n",
       "      <th>0</th>\n",
       "      <td>1</td>\n",
       "      <td>0</td>\n",
       "      <td>NaN</td>\n",
       "      <td>8b2d7f2aed47ab32e9c6ae4f5ae00147</td>\n",
       "      <td>8008333091915950969</td>\n",
       "      <td>9a2c909ebc47aec49d9c160cdb4a6572</td>\n",
       "      <td>1</td>\n",
       "      <td>2.1.5</td>\n",
       "      <td>HONOR</td>\n",
       "      <td>g4</td>\n",
       "      <td>9</td>\n",
       "      <td>1.125385e+02</td>\n",
       "      <td>3.783793e+01</td>\n",
       "      <td>STF-AL00</td>\n",
       "      <td>1573298086436</td>\n",
       "    </tr>\n",
       "    <tr>\n",
       "      <th>1</th>\n",
       "      <td>2</td>\n",
       "      <td>0</td>\n",
       "      <td>NaN</td>\n",
       "      <td>8b2d7f2aed47ab32e9c6ae4f5ae00147</td>\n",
       "      <td>8008333091915950969</td>\n",
       "      <td>9a2c909ebc47aec49d9c160cdb4a6572</td>\n",
       "      <td>1</td>\n",
       "      <td>2.1.5</td>\n",
       "      <td>HONOR</td>\n",
       "      <td>w</td>\n",
       "      <td>9</td>\n",
       "      <td>1.117312e+02</td>\n",
       "      <td>3.562274e+01</td>\n",
       "      <td>STF-AL00</td>\n",
       "      <td>1573298087570</td>\n",
       "    </tr>\n",
       "    <tr>\n",
       "      <th>2</th>\n",
       "      <td>3</td>\n",
       "      <td>0</td>\n",
       "      <td>NaN</td>\n",
       "      <td>832aaa33cdf4a0938ba2c795eb3ffefd</td>\n",
       "      <td>4941885624885390992</td>\n",
       "      <td>d51a157d2b1e0e9aed4dd7f9900b85b2</td>\n",
       "      <td>2</td>\n",
       "      <td>1.9.9</td>\n",
       "      <td>vivo</td>\n",
       "      <td>w</td>\n",
       "      <td>8.1.0</td>\n",
       "      <td>4.940656e-324</td>\n",
       "      <td>4.940656e-324</td>\n",
       "      <td>V1818T</td>\n",
       "      <td>1573377075934</td>\n",
       "    </tr>\n",
       "    <tr>\n",
       "      <th>3</th>\n",
       "      <td>4</td>\n",
       "      <td>0</td>\n",
       "      <td>NaN</td>\n",
       "      <td>832aaa33cdf4a0938ba2c795eb3ffefd</td>\n",
       "      <td>6088376349846612406</td>\n",
       "      <td>d51a157d2b1e0e9aed4dd7f9900b85b2</td>\n",
       "      <td>1</td>\n",
       "      <td>1.9.9</td>\n",
       "      <td>vivo</td>\n",
       "      <td>w</td>\n",
       "      <td>8.1.0</td>\n",
       "      <td>4.940656e-324</td>\n",
       "      <td>4.940656e-324</td>\n",
       "      <td>V1818T</td>\n",
       "      <td>1573377044359</td>\n",
       "    </tr>\n",
       "    <tr>\n",
       "      <th>4</th>\n",
       "      <td>5</td>\n",
       "      <td>0</td>\n",
       "      <td>NaN</td>\n",
       "      <td>67dd9dac18cce1a6d79e8f20eefd98ab</td>\n",
       "      <td>5343094189765291622</td>\n",
       "      <td>625dc45744f59ddbc3ec8df161217188</td>\n",
       "      <td>0</td>\n",
       "      <td>2.1.1</td>\n",
       "      <td>xiaomi</td>\n",
       "      <td>w</td>\n",
       "      <td>9</td>\n",
       "      <td>1.167509e+02</td>\n",
       "      <td>3.656831e+01</td>\n",
       "      <td>Redmi Note 7</td>\n",
       "      <td>1573380989662</td>\n",
       "    </tr>\n",
       "  </tbody>\n",
       "</table>\n",
       "</div>"
      ],
      "text/plain": [
       "   id  target  timestamp                          deviceid  \\\n",
       "0   1       0        NaN  8b2d7f2aed47ab32e9c6ae4f5ae00147   \n",
       "1   2       0        NaN  8b2d7f2aed47ab32e9c6ae4f5ae00147   \n",
       "2   3       0        NaN  832aaa33cdf4a0938ba2c795eb3ffefd   \n",
       "3   4       0        NaN  832aaa33cdf4a0938ba2c795eb3ffefd   \n",
       "4   5       0        NaN  67dd9dac18cce1a6d79e8f20eefd98ab   \n",
       "\n",
       "                newsid                              guid  pos app_version  \\\n",
       "0  8008333091915950969  9a2c909ebc47aec49d9c160cdb4a6572    1       2.1.5   \n",
       "1  8008333091915950969  9a2c909ebc47aec49d9c160cdb4a6572    1       2.1.5   \n",
       "2  4941885624885390992  d51a157d2b1e0e9aed4dd7f9900b85b2    2       1.9.9   \n",
       "3  6088376349846612406  d51a157d2b1e0e9aed4dd7f9900b85b2    1       1.9.9   \n",
       "4  5343094189765291622  625dc45744f59ddbc3ec8df161217188    0       2.1.1   \n",
       "\n",
       "  device_vendor netmodel osversion            lng            lat  \\\n",
       "0         HONOR       g4         9   1.125385e+02   3.783793e+01   \n",
       "1         HONOR        w         9   1.117312e+02   3.562274e+01   \n",
       "2          vivo        w     8.1.0  4.940656e-324  4.940656e-324   \n",
       "3          vivo        w     8.1.0  4.940656e-324  4.940656e-324   \n",
       "4        xiaomi        w         9   1.167509e+02   3.656831e+01   \n",
       "\n",
       "  device_version             ts  \n",
       "0       STF-AL00  1573298086436  \n",
       "1       STF-AL00  1573298087570  \n",
       "2         V1818T  1573377075934  \n",
       "3         V1818T  1573377044359  \n",
       "4   Redmi Note 7  1573380989662  "
      ]
     },
     "execution_count": 6,
     "metadata": {},
     "output_type": "execute_result"
    }
   ],
   "source": [
    "'''\n",
    "相比ｔｅｓｔ，多了两列特征target，timestamp\n",
    "'''\n",
    "train_data.head()"
   ]
  },
  {
   "cell_type": "code",
   "execution_count": 100,
   "metadata": {},
   "outputs": [
    {
     "data": {
      "text/plain": [
       "(11376681, 15)"
      ]
     },
     "execution_count": 100,
     "metadata": {},
     "output_type": "execute_result"
    }
   ],
   "source": [
    "train_data.shape"
   ]
  },
  {
   "cell_type": "code",
   "execution_count": 101,
   "metadata": {},
   "outputs": [
    {
     "data": {
      "text/plain": [
       "(104736,)"
      ]
     },
     "execution_count": 101,
     "metadata": {},
     "output_type": "execute_result"
    }
   ],
   "source": [
    "train_data['deviceid'].unique().shape"
   ]
  },
  {
   "cell_type": "code",
   "execution_count": 102,
   "metadata": {},
   "outputs": [
    {
     "data": {
      "text/plain": [
       "(1152851,)"
      ]
     },
     "execution_count": 102,
     "metadata": {},
     "output_type": "execute_result"
    }
   ],
   "source": [
    "train_data['newsid'].unique().shape"
   ]
  },
  {
   "cell_type": "code",
   "execution_count": 103,
   "metadata": {},
   "outputs": [
    {
     "data": {
      "text/plain": [
       "(104333,)"
      ]
     },
     "execution_count": 103,
     "metadata": {},
     "output_type": "execute_result"
    }
   ],
   "source": [
    "train_data['guid'].unique().shape"
   ]
  },
  {
   "cell_type": "code",
   "execution_count": 106,
   "metadata": {},
   "outputs": [
    {
     "name": "stdout",
     "output_type": "stream",
     "text": [
      "ACTIVE TO PICKLE:  31.221115827560425\n"
     ]
    }
   ],
   "source": [
    "if not os.path.exists(\"{}/train_data.pickle\".format(pickle_path)):\n",
    "    t1 = time.time()\n",
    "    train_data.to_pickle(\"{}/train_data.pickle\".format(pickle_path))\n",
    "    print('ACTIVE TO PICKLE: ',time.time()-t1)"
   ]
  },
  {
   "cell_type": "markdown",
   "metadata": {},
   "source": [
    "# 处理user数据"
   ]
  },
  {
   "cell_type": "code",
   "execution_count": 57,
   "metadata": {},
   "outputs": [
    {
     "data": {
      "text/html": [
       "<div>\n",
       "<style scoped>\n",
       "    .dataframe tbody tr th:only-of-type {\n",
       "        vertical-align: middle;\n",
       "    }\n",
       "\n",
       "    .dataframe tbody tr th {\n",
       "        vertical-align: top;\n",
       "    }\n",
       "\n",
       "    .dataframe thead th {\n",
       "        text-align: right;\n",
       "    }\n",
       "</style>\n",
       "<table border=\"1\" class=\"dataframe\">\n",
       "  <thead>\n",
       "    <tr style=\"text-align: right;\">\n",
       "      <th></th>\n",
       "      <th>deviceid</th>\n",
       "      <th>guid</th>\n",
       "      <th>outertag</th>\n",
       "      <th>tag</th>\n",
       "      <th>level</th>\n",
       "      <th>personidentification</th>\n",
       "      <th>followscore</th>\n",
       "      <th>personalscore</th>\n",
       "      <th>gender</th>\n",
       "    </tr>\n",
       "  </thead>\n",
       "  <tbody>\n",
       "    <tr>\n",
       "      <th>0</th>\n",
       "      <td>dd4f4cbcc9733f8de667a99b7f375b99</td>\n",
       "      <td>NaN</td>\n",
       "      <td>NaN</td>\n",
       "      <td>NaN</td>\n",
       "      <td>NaN</td>\n",
       "      <td>NaN</td>\n",
       "      <td>NaN</td>\n",
       "      <td>NaN</td>\n",
       "      <td>NaN</td>\n",
       "    </tr>\n",
       "    <tr>\n",
       "      <th>1</th>\n",
       "      <td>e9b1196a3fc0603c55614caf35c26ce5</td>\n",
       "      <td>NaN</td>\n",
       "      <td>NaN</td>\n",
       "      <td>天文_cs:7.456377740584219|地球_cs:6.98583086684807...</td>\n",
       "      <td>NaN</td>\n",
       "      <td>NaN</td>\n",
       "      <td>NaN</td>\n",
       "      <td>NaN</td>\n",
       "      <td>NaN</td>\n",
       "    </tr>\n",
       "    <tr>\n",
       "      <th>2</th>\n",
       "      <td>db10a6fa198cb4d0aa7121642b8370b9</td>\n",
       "      <td>NaN</td>\n",
       "      <td>穿秀_cs:1.2165785692152642|社会热点_cs:0.40078686267...</td>\n",
       "      <td>一起来看流星雨_cs:6.040606247799313|都市_cs:4.602140126...</td>\n",
       "      <td>NaN</td>\n",
       "      <td>NaN</td>\n",
       "      <td>NaN</td>\n",
       "      <td>NaN</td>\n",
       "      <td>NaN</td>\n",
       "    </tr>\n",
       "    <tr>\n",
       "      <th>3</th>\n",
       "      <td>c52c040529eafef29b60c7b2b28cdf6f</td>\n",
       "      <td>NaN</td>\n",
       "      <td>NaN</td>\n",
       "      <td>NaN</td>\n",
       "      <td>NaN</td>\n",
       "      <td>NaN</td>\n",
       "      <td>NaN</td>\n",
       "      <td>NaN</td>\n",
       "      <td>NaN</td>\n",
       "    </tr>\n",
       "    <tr>\n",
       "      <th>4</th>\n",
       "      <td>bb08d2ff7f124e7fd6d00fd1a1a3eb36</td>\n",
       "      <td>NaN</td>\n",
       "      <td>NaN</td>\n",
       "      <td>NaN</td>\n",
       "      <td>NaN</td>\n",
       "      <td>NaN</td>\n",
       "      <td>NaN</td>\n",
       "      <td>NaN</td>\n",
       "      <td>NaN</td>\n",
       "    </tr>\n",
       "  </tbody>\n",
       "</table>\n",
       "</div>"
      ],
      "text/plain": [
       "                           deviceid guid  \\\n",
       "0  dd4f4cbcc9733f8de667a99b7f375b99  NaN   \n",
       "1  e9b1196a3fc0603c55614caf35c26ce5  NaN   \n",
       "2  db10a6fa198cb4d0aa7121642b8370b9  NaN   \n",
       "3  c52c040529eafef29b60c7b2b28cdf6f  NaN   \n",
       "4  bb08d2ff7f124e7fd6d00fd1a1a3eb36  NaN   \n",
       "\n",
       "                                            outertag  \\\n",
       "0                                                NaN   \n",
       "1                                                NaN   \n",
       "2  穿秀_cs:1.2165785692152642|社会热点_cs:0.40078686267...   \n",
       "3                                                NaN   \n",
       "4                                                NaN   \n",
       "\n",
       "                                                 tag  level  \\\n",
       "0                                                NaN    NaN   \n",
       "1  天文_cs:7.456377740584219|地球_cs:6.98583086684807...    NaN   \n",
       "2  一起来看流星雨_cs:6.040606247799313|都市_cs:4.602140126...    NaN   \n",
       "3                                                NaN    NaN   \n",
       "4                                                NaN    NaN   \n",
       "\n",
       "   personidentification  followscore  personalscore  gender  \n",
       "0                   NaN          NaN            NaN     NaN  \n",
       "1                   NaN          NaN            NaN     NaN  \n",
       "2                   NaN          NaN            NaN     NaN  \n",
       "3                   NaN          NaN            NaN     NaN  \n",
       "4                   NaN          NaN            NaN     NaN  "
      ]
     },
     "execution_count": 57,
     "metadata": {},
     "output_type": "execute_result"
    }
   ],
   "source": [
    "'''\n",
    "user.csv包含128573条数据，\n",
    "9个字段：deviceid,guid,outertag,tag,\n",
    "        level,personidentification,\n",
    "        followscore,personalscore,\n",
    "        gender \n",
    "deviceid：用户设备id。\n",
    "guid：用户注册id。 \n",
    "outertag：用户画像用|分隔，冒号后面的数字代表对该标签的符合程度，分数越高代表该标签越符合该用户。 \n",
    "tag：同outertag。 \n",
    "level：用户等级。 \n",
    "personidentification：1表示劣质用户 0表示正常用户。 \n",
    "followscore：徒弟分（好友分）。 \n",
    "personalscore：个人分。 \n",
    "gender：性别。 \n",
    "'''\n",
    "user_data.head(5)"
   ]
  },
  {
   "cell_type": "code",
   "execution_count": 58,
   "metadata": {},
   "outputs": [
    {
     "data": {
      "text/plain": [
       "deviceid                False\n",
       "guid                     True\n",
       "outertag                 True\n",
       "tag                      True\n",
       "level                    True\n",
       "personidentification     True\n",
       "followscore              True\n",
       "personalscore            True\n",
       "gender                   True\n",
       "dtype: bool"
      ]
     },
     "execution_count": 58,
     "metadata": {},
     "output_type": "execute_result"
    }
   ],
   "source": [
    "user_data.isnull().any()"
   ]
  },
  {
   "cell_type": "code",
   "execution_count": 59,
   "metadata": {},
   "outputs": [
    {
     "data": {
      "text/plain": [
       "array([nan,  1.,  2., 11., 13., 12., 21., 51., 23., 33., 22., 31., 41.,\n",
       "       43., 53.])"
      ]
     },
     "execution_count": 59,
     "metadata": {},
     "output_type": "execute_result"
    }
   ],
   "source": [
    "user_data['level'].unique()"
   ]
  },
  {
   "cell_type": "code",
   "execution_count": 60,
   "metadata": {},
   "outputs": [],
   "source": [
    "user_data['level'] = user_data['level'].fillna(0)"
   ]
  },
  {
   "cell_type": "code",
   "execution_count": 61,
   "metadata": {},
   "outputs": [
    {
     "data": {
      "text/plain": [
       "array([ nan, 10. ,  9.5, 12.3, 11.8, 10.9,  9.2, 11.6, 12.7, 12.5,  9.4,\n",
       "       12.4, 10.8, 10.5, 13. , 12.2, 11.1, 11.3, 17.7,  9.3, 11.9, 11.2,\n",
       "       12.8, 17.3, 11.5, 17.2, 10.1, 16.9, 16.3, 14.4, 11.4, 10.6, 12.1,\n",
       "       14.3, 10.2, 11. , 12. , 19. , 10.4, 18. , 13.6, 15.8, 20.6, 10.7,\n",
       "       11.7, 15.4,  9.1, 14.6, 14.8, 16.5, 10.3,  2.3, 15.9, 16.7, 14.2,\n",
       "       15.5,  9.7, 15.7, 14.1, 14. , 17.6,  7.3, 12.9, 13.4,  5.6, 13.7,\n",
       "        9. , 17.5, 17.1, 16.1, 18.1, 15.2, 15. , 19.5, 14.7, 13.3, 13.9,\n",
       "       17.8,  9.6, 22.3, 12.6, 18.2,  8.3,  8.7, 17. , 16.4, 16.8,  7.6,\n",
       "       21.5, 13.5,  8.2, 15.6, 16.6,  6.4, 19.1, 19.9,  4.6, 15.3,  9.9,\n",
       "       16.2, 22.1, 20.4, 15.1, 20.9, 18.6,  3.5, 18.4, 19.7, 13.1, 14.9,\n",
       "       14.5,  7.1, 20.5, 13.2,  8.9, 17.9,  4.3, 19.4, 18.3,  9.8,  8. ,\n",
       "        7.8, 19.6, 22. , 22.8, 19.8,  4.7, 21.6,  3.8, 13.8, 21.4, 19.2,\n",
       "        5.3, 16. ,  6.7,  7.9, 18.9,  7.4,  6. ,  7.5,  8.5, 18.7, 20.1,\n",
       "       20.3, 20.2, 18.8,  7.7,  6.3, 21.1,  5.2, 17.4,  3.2,  8.1,  6.8,\n",
       "       22.2,  3.7,  5.9,  5.8, 22.7,  6.9,  4. ,  8.6,  5.7,  1.5, 22.5,\n",
       "        8.4,  3.9, 18.5,  4.8,  2.6,  5.1])"
      ]
     },
     "execution_count": 61,
     "metadata": {},
     "output_type": "execute_result"
    }
   ],
   "source": [
    "user_data['followscore'].unique()"
   ]
  },
  {
   "cell_type": "code",
   "execution_count": 62,
   "metadata": {},
   "outputs": [],
   "source": [
    "user_data['followscore'] = user_data['followscore'].fillna(0)"
   ]
  },
  {
   "cell_type": "code",
   "execution_count": 63,
   "metadata": {},
   "outputs": [
    {
     "data": {
      "text/plain": [
       "array([ nan, 20.5, 10. , 18. ,  7.5,  8. , 19. , 13.5, 15. , 28. , 12. ,\n",
       "       24.5, 22.5, 20. , 23.5, 16. , 11. , 14. , 14.5,  8.5,  4. ,  9. ,\n",
       "       19.5, 23. , 25. ,  1.5, 21. , 26. ,  0. , 13. , -1.5, 18.5,  6. ,\n",
       "       22. , 17. ,  3.5, 15.5, -1. , 12.5,  4.5, 26.5, 11.5, 24. ,  3. ,\n",
       "        1. ,  2. , 17.5,  5. , 16.5, 27. ,  6.5,  9.5,  2.5, 21.5,  0.5,\n",
       "       10.5, 25.5,  5.5, 27.5, -0.5,  7. , -2. , -2.5, -3. , -4. ])"
      ]
     },
     "execution_count": 63,
     "metadata": {},
     "output_type": "execute_result"
    }
   ],
   "source": [
    "user_data['personalscore'].unique()"
   ]
  },
  {
   "cell_type": "code",
   "execution_count": 64,
   "metadata": {},
   "outputs": [
    {
     "data": {
      "text/plain": [
       "0.3431902498969457"
      ]
     },
     "execution_count": 64,
     "metadata": {},
     "output_type": "execute_result"
    }
   ],
   "source": [
    "user_data['guid'].isnull().sum() / user_data['guid'].shape[0]"
   ]
  },
  {
   "cell_type": "code",
   "execution_count": 65,
   "metadata": {},
   "outputs": [
    {
     "data": {
      "text/plain": [
       "array([nan,  0.,  2.,  1.])"
      ]
     },
     "execution_count": 65,
     "metadata": {},
     "output_type": "execute_result"
    }
   ],
   "source": [
    "user_data['gender'].unique()"
   ]
  },
  {
   "cell_type": "code",
   "execution_count": 66,
   "metadata": {},
   "outputs": [
    {
     "data": {
      "text/plain": [
       "0.0    36427\n",
       "2.0     9619\n",
       "1.0     9514\n",
       "Name: gender, dtype: int64"
      ]
     },
     "execution_count": 66,
     "metadata": {},
     "output_type": "execute_result"
    }
   ],
   "source": [
    "user_data['gender'].value_counts()"
   ]
  },
  {
   "cell_type": "code",
   "execution_count": 67,
   "metadata": {},
   "outputs": [
    {
     "data": {
      "text/plain": [
       "0.5678719482317438"
      ]
     },
     "execution_count": 67,
     "metadata": {},
     "output_type": "execute_result"
    }
   ],
   "source": [
    "user_data['gender'].isnull().sum() / user_data['gender'].shape[0]"
   ]
  },
  {
   "cell_type": "code",
   "execution_count": 68,
   "metadata": {},
   "outputs": [],
   "source": [
    "user_data['gender'] = user_data['gender'].fillna(-1)"
   ]
  },
  {
   "cell_type": "code",
   "execution_count": 69,
   "metadata": {},
   "outputs": [
    {
     "data": {
      "text/plain": [
       "deviceid                False\n",
       "guid                     True\n",
       "outertag                 True\n",
       "tag                      True\n",
       "level                   False\n",
       "personidentification     True\n",
       "followscore             False\n",
       "personalscore            True\n",
       "gender                  False\n",
       "dtype: bool"
      ]
     },
     "execution_count": 69,
     "metadata": {},
     "output_type": "execute_result"
    }
   ],
   "source": [
    "user_data.isnull().any()"
   ]
  },
  {
   "cell_type": "code",
   "execution_count": 107,
   "metadata": {},
   "outputs": [
    {
     "name": "stdout",
     "output_type": "stream",
     "text": [
      "ACTIVE TO PICKLE:  3.95857310295105\n"
     ]
    }
   ],
   "source": [
    "if not os.path.exists(\"{}/user_data.pickle\".format(pickle_path)):\n",
    "    t1 = time.time()\n",
    "    user_data.to_pickle(\"{}/user_data.pickle\".format(pickle_path))\n",
    "    print('ACTIVE TO PICKLE: ',time.time()-t1)"
   ]
  },
  {
   "cell_type": "code",
   "execution_count": 4,
   "metadata": {},
   "outputs": [],
   "source": [
    "tag_data = user_data[['deviceid','outertag','tag']]"
   ]
  },
  {
   "cell_type": "code",
   "execution_count": 5,
   "metadata": {},
   "outputs": [],
   "source": [
    "tag_data['new_tag'] = tag_data['outertag'].apply(lambda x: str(x).split('|') if x is not np.nan else x)"
   ]
  },
  {
   "cell_type": "code",
   "execution_count": 6,
   "metadata": {},
   "outputs": [],
   "source": [
    "tag_data['new_tag_2'] = tag_data['tag'].apply(lambda x: str(x).split('|') if x is not np.nan else x)"
   ]
  },
  {
   "cell_type": "code",
   "execution_count": 7,
   "metadata": {},
   "outputs": [
    {
     "data": {
      "text/html": [
       "<div>\n",
       "<style scoped>\n",
       "    .dataframe tbody tr th:only-of-type {\n",
       "        vertical-align: middle;\n",
       "    }\n",
       "\n",
       "    .dataframe tbody tr th {\n",
       "        vertical-align: top;\n",
       "    }\n",
       "\n",
       "    .dataframe thead th {\n",
       "        text-align: right;\n",
       "    }\n",
       "</style>\n",
       "<table border=\"1\" class=\"dataframe\">\n",
       "  <thead>\n",
       "    <tr style=\"text-align: right;\">\n",
       "      <th></th>\n",
       "      <th>deviceid</th>\n",
       "      <th>outertag</th>\n",
       "      <th>tag</th>\n",
       "      <th>new_tag</th>\n",
       "      <th>new_tag_2</th>\n",
       "    </tr>\n",
       "  </thead>\n",
       "  <tbody>\n",
       "    <tr>\n",
       "      <th>0</th>\n",
       "      <td>dd4f4cbcc9733f8de667a99b7f375b99</td>\n",
       "      <td>NaN</td>\n",
       "      <td>NaN</td>\n",
       "      <td>NaN</td>\n",
       "      <td>NaN</td>\n",
       "    </tr>\n",
       "    <tr>\n",
       "      <th>1</th>\n",
       "      <td>e9b1196a3fc0603c55614caf35c26ce5</td>\n",
       "      <td>NaN</td>\n",
       "      <td>天文_cs:7.456377740584219|地球_cs:6.98583086684807...</td>\n",
       "      <td>NaN</td>\n",
       "      <td>[天文_cs:7.456377740584219, 地球_cs:6.985830866848...</td>\n",
       "    </tr>\n",
       "    <tr>\n",
       "      <th>2</th>\n",
       "      <td>db10a6fa198cb4d0aa7121642b8370b9</td>\n",
       "      <td>穿秀_cs:1.2165785692152642|社会热点_cs:0.40078686267...</td>\n",
       "      <td>一起来看流星雨_cs:6.040606247799313|都市_cs:4.602140126...</td>\n",
       "      <td>[穿秀_cs:1.2165785692152642, 社会热点_cs:0.400786862...</td>\n",
       "      <td>[一起来看流星雨_cs:6.040606247799313, 都市_cs:4.6021401...</td>\n",
       "    </tr>\n",
       "    <tr>\n",
       "      <th>3</th>\n",
       "      <td>c52c040529eafef29b60c7b2b28cdf6f</td>\n",
       "      <td>NaN</td>\n",
       "      <td>NaN</td>\n",
       "      <td>NaN</td>\n",
       "      <td>NaN</td>\n",
       "    </tr>\n",
       "    <tr>\n",
       "      <th>4</th>\n",
       "      <td>bb08d2ff7f124e7fd6d00fd1a1a3eb36</td>\n",
       "      <td>NaN</td>\n",
       "      <td>NaN</td>\n",
       "      <td>NaN</td>\n",
       "      <td>NaN</td>\n",
       "    </tr>\n",
       "    <tr>\n",
       "      <th>...</th>\n",
       "      <td>...</td>\n",
       "      <td>...</td>\n",
       "      <td>...</td>\n",
       "      <td>...</td>\n",
       "      <td>...</td>\n",
       "    </tr>\n",
       "    <tr>\n",
       "      <th>128568</th>\n",
       "      <td>894d831564b80393dc17759fe5de6ac2</td>\n",
       "      <td>NaN</td>\n",
       "      <td>内衣_cs:13.680843133280433|泳装_cs:12.111698872653...</td>\n",
       "      <td>NaN</td>\n",
       "      <td>[内衣_cs:13.680843133280433, 泳装_cs:12.1116988726...</td>\n",
       "    </tr>\n",
       "    <tr>\n",
       "      <th>128569</th>\n",
       "      <td>7672e8b6b35fd86fdba6adc642a155fa</td>\n",
       "      <td>NaN</td>\n",
       "      <td>NaN</td>\n",
       "      <td>NaN</td>\n",
       "      <td>NaN</td>\n",
       "    </tr>\n",
       "    <tr>\n",
       "      <th>128570</th>\n",
       "      <td>c141551bb220b831a7e3a96afcc3da0e</td>\n",
       "      <td>萌娃_cs:0.4405755620303141|手工_cs:0.4367766119612...</td>\n",
       "      <td>女性时尚_cs:6.143540257568882|性感_cs:5.317837258451...</td>\n",
       "      <td>[萌娃_cs:0.4405755620303141, 手工_cs:0.43677661196...</td>\n",
       "      <td>[女性时尚_cs:6.143540257568882, 性感_cs:5.3178372584...</td>\n",
       "    </tr>\n",
       "    <tr>\n",
       "      <th>128571</th>\n",
       "      <td>575c7bc6ba73a6da9f50bd1098d28b51</td>\n",
       "      <td>NaN</td>\n",
       "      <td>老虎_cs:54.30925671036804|美女_cs:5.5503764860383855</td>\n",
       "      <td>NaN</td>\n",
       "      <td>[老虎_cs:54.30925671036804, 美女_cs:5.550376486038...</td>\n",
       "    </tr>\n",
       "    <tr>\n",
       "      <th>128572</th>\n",
       "      <td>f6ce4eb5d28dfcf74d141344131d104e</td>\n",
       "      <td>NaN</td>\n",
       "      <td>锦绣未央_cs:35.26143301249351|唐嫣_cs:11.87189451277...</td>\n",
       "      <td>NaN</td>\n",
       "      <td>[锦绣未央_cs:35.26143301249351, 唐嫣_cs:11.871894512...</td>\n",
       "    </tr>\n",
       "  </tbody>\n",
       "</table>\n",
       "<p>128573 rows × 5 columns</p>\n",
       "</div>"
      ],
      "text/plain": [
       "                                deviceid  \\\n",
       "0       dd4f4cbcc9733f8de667a99b7f375b99   \n",
       "1       e9b1196a3fc0603c55614caf35c26ce5   \n",
       "2       db10a6fa198cb4d0aa7121642b8370b9   \n",
       "3       c52c040529eafef29b60c7b2b28cdf6f   \n",
       "4       bb08d2ff7f124e7fd6d00fd1a1a3eb36   \n",
       "...                                  ...   \n",
       "128568  894d831564b80393dc17759fe5de6ac2   \n",
       "128569  7672e8b6b35fd86fdba6adc642a155fa   \n",
       "128570  c141551bb220b831a7e3a96afcc3da0e   \n",
       "128571  575c7bc6ba73a6da9f50bd1098d28b51   \n",
       "128572  f6ce4eb5d28dfcf74d141344131d104e   \n",
       "\n",
       "                                                 outertag  \\\n",
       "0                                                     NaN   \n",
       "1                                                     NaN   \n",
       "2       穿秀_cs:1.2165785692152642|社会热点_cs:0.40078686267...   \n",
       "3                                                     NaN   \n",
       "4                                                     NaN   \n",
       "...                                                   ...   \n",
       "128568                                                NaN   \n",
       "128569                                                NaN   \n",
       "128570  萌娃_cs:0.4405755620303141|手工_cs:0.4367766119612...   \n",
       "128571                                                NaN   \n",
       "128572                                                NaN   \n",
       "\n",
       "                                                      tag  \\\n",
       "0                                                     NaN   \n",
       "1       天文_cs:7.456377740584219|地球_cs:6.98583086684807...   \n",
       "2       一起来看流星雨_cs:6.040606247799313|都市_cs:4.602140126...   \n",
       "3                                                     NaN   \n",
       "4                                                     NaN   \n",
       "...                                                   ...   \n",
       "128568  内衣_cs:13.680843133280433|泳装_cs:12.111698872653...   \n",
       "128569                                                NaN   \n",
       "128570  女性时尚_cs:6.143540257568882|性感_cs:5.317837258451...   \n",
       "128571   老虎_cs:54.30925671036804|美女_cs:5.5503764860383855   \n",
       "128572  锦绣未央_cs:35.26143301249351|唐嫣_cs:11.87189451277...   \n",
       "\n",
       "                                                  new_tag  \\\n",
       "0                                                     NaN   \n",
       "1                                                     NaN   \n",
       "2       [穿秀_cs:1.2165785692152642, 社会热点_cs:0.400786862...   \n",
       "3                                                     NaN   \n",
       "4                                                     NaN   \n",
       "...                                                   ...   \n",
       "128568                                                NaN   \n",
       "128569                                                NaN   \n",
       "128570  [萌娃_cs:0.4405755620303141, 手工_cs:0.43677661196...   \n",
       "128571                                                NaN   \n",
       "128572                                                NaN   \n",
       "\n",
       "                                                new_tag_2  \n",
       "0                                                     NaN  \n",
       "1       [天文_cs:7.456377740584219, 地球_cs:6.985830866848...  \n",
       "2       [一起来看流星雨_cs:6.040606247799313, 都市_cs:4.6021401...  \n",
       "3                                                     NaN  \n",
       "4                                                     NaN  \n",
       "...                                                   ...  \n",
       "128568  [内衣_cs:13.680843133280433, 泳装_cs:12.1116988726...  \n",
       "128569                                                NaN  \n",
       "128570  [女性时尚_cs:6.143540257568882, 性感_cs:5.3178372584...  \n",
       "128571  [老虎_cs:54.30925671036804, 美女_cs:5.550376486038...  \n",
       "128572  [锦绣未央_cs:35.26143301249351, 唐嫣_cs:11.871894512...  \n",
       "\n",
       "[128573 rows x 5 columns]"
      ]
     },
     "execution_count": 7,
     "metadata": {},
     "output_type": "execute_result"
    }
   ],
   "source": [
    "tag_data"
   ]
  },
  {
   "cell_type": "code",
   "execution_count": 8,
   "metadata": {},
   "outputs": [],
   "source": [
    "tag_data['all_tag'] = tag_data['new_tag'].astype(str) +','+ tag_data['new_tag_2'].astype(str) \n",
    "tag_data.replace('nan,nan',np.nan,inplace = True)\n",
    "tag_data['all_tag'] = tag_data['all_tag'].map(lambda x:str(x).replace('nan,[','[').replace('],nan',']').replace('],[',', '))"
   ]
  },
  {
   "cell_type": "code",
   "execution_count": 9,
   "metadata": {},
   "outputs": [
    {
     "data": {
      "text/plain": [
       "\"['穿秀_cs:1.2165785692152642', '社会热点_cs:0.4007868626782047', '美妆_cs:0.3865336300642309', '美食_cs:0.26986132658795936', '一起来看流星雨_cs:6.040606247799313', '都市_cs:4.602140126675309', '张世_cs:3.9795760090872885', '食谱_cs:3.7462326434377453', '插翅难逃_cs:3.6745923528757576', '郑爽_cs:3.431694067701842', '情感_cs:3.247987477051344', '排骨_cs:3.0198338075184705', '撩妹_cs:2.342867174862778', '街采_cs:2.259804270985078', '云海_cs:2.0950671633453832', '学霸_cs:2.089995498740284', '张翰_cs:2.017445052672142', '免费_cs:2.010700610834794', '老照片_cs:1.9958837135628291', '隐婚_cs:1.942033782102077', '好戏_cs:1.9060189818210826', '绑架_cs:1.8848316244947665', '手段_cs:1.8639853540934332', '菜谱_cs:1.8448356310485905', '影视_cs:1.8175078682633468', '极品_cs:1.8069768667020591', '小保姆_cs:1.7767926127848894', '腹肌_cs:1.768053095576293', '黑老大_cs:1.697710765213656', '原来是这样_cs:1.688611985853882', '解酒_cs:1.6775192120459403', '早恋_cs:1.6667995589519407', '木瓜_cs:1.6168895816527447', '饭店_cs:1.5609737757491737', '老婆_cs:1.5280594734389132', '流星雨_cs:1.4653693997606188', '暴雨_cs:1.4070839921631597', '平板电脑_cs:1.3975157282101072', '早餐_cs:1.309571174186615', '搭讪_cs:1.28034835259219', '空姐_cs:1.2728469666738251', '啤酒_cs:1.2468710886948509', '增肌_cs:1.242416227791948', '街舞_cs:1.1906668326401653', '红薯_cs:1.1871630687745047', '失恋_cs:1.1837623371522024', '段子_cs:1.1557774086711845', '杉杉来了_cs:1.139619316983791', '中医_cs:1.1059796900482137', '美体塑形_cs:1.1012203980088335', '三农_cs:1.0967152259564288', '搞笑_cs:1.0781267425184715', '欢乐颂_cs:1.0665912386964427', '剧情_cs:1.0489742890166571', '电视剧_cs:1.0403371288963714', '非洲_cs:1.0273485742976298', '八卦_cs:1.0204354328528364', '卫衣_cs:1.0144768688274108', '京津冀_cs:1.0060484920822599', '西葫芦_cs:1.002106433316497', '江西_cs:0.994060924822521', '鸡蛋_cs:0.9248644021895142', '北京_cs:0.9066738611435126', '番茄_cs:0.9003560323810549', '食材_cs:0.8976215238762507', '爆笑短剧_cs:0.8803215491591411', '罗晋_cs:0.8585748635908899', '天龙八部_cs:0.858423016141907', '家庭_cs:0.8567008398245722', '穿衣搭配_cs:0.8169246812082078', '紫薯_cs:0.8164846348488611', '演唱会_cs:0.8082851574178215', '电影_cs:0.8020911125693785', '猪肉_cs:0.7902847296048229', '金庸小说_cs:0.7790112000076834', '郑伊健_cs:0.7789230153266488', '农村_cs:0.7674781942827604', '蔬菜_cs:0.7613277782043196', '刘德华_cs:0.7497801246367628', '健身_cs:0.6951825291010613', '生活_cs:0.5808762403539456', '明星_cs:0.5644215137762244', '金星秀_cs:0.5620416426726434', '内地娱乐_cs:0.5616045402068515', '印度_cs:0.5154348397828451', '主题游_cs:0.5127128189651231', '外遇_cs:0.5064342137696161', '产经_cs:0.4720200798400512', '戒指_cs:0.4695253623803315', '龙虾_cs:0.3999577976123955', '性感_cs:0.3968118603933062', '舞蹈_cs:0.39060301991001684', '出轨_cs:0.36774360989628896', '中国文化_cs:0.34492211181784493', '美国_cs:0.3419652789569877', '收藏_cs:0.3302487591391316', '闺蜜_cs:0.2658351648244262', '女性时尚_cs:0.2651309488801251', '杨洋_cs:0.24683636129477737', '宗教_cs:0.23948169031684194', '疾病_cs:0.21016414123769087', '爱情_cs:0.1851293251577362', '港台娱乐_cs:0.17860478408610955', '综艺_cs:0.1347190594287747', '恋爱_cs:0.11406861422768866', '美女_cs:0.08654387315741796']\""
      ]
     },
     "execution_count": 9,
     "metadata": {},
     "output_type": "execute_result"
    }
   ],
   "source": [
    "tag_data.loc[2,'all_tag']"
   ]
  },
  {
   "cell_type": "code",
   "execution_count": 10,
   "metadata": {},
   "outputs": [],
   "source": [
    "tag_data['all_tag_word'] = tag_data['all_tag'].map(lambda x: re.sub(\"[A-Za-z0-9\\!\\%\\[\\]\\,\\。\\_\\:\\.]\", \"\", x))\n",
    "tag_data['all_tag_word']= tag_data['all_tag_word'].replace(\"\",'未知')\n",
    "tag_data['all_tag_word'] = tag_data['all_tag_word'].map(lambda x:x.replace(\"'\",\"\").split(' '))"
   ]
  },
  {
   "cell_type": "code",
   "execution_count": 11,
   "metadata": {},
   "outputs": [],
   "source": [
    "tag_data['all_tag_weight'] = tag_data['all_tag'].map(lambda x: re.findall(\"\\d+\\.?\\d*\", x))\n",
    "tag_data['all_tag_weight']= tag_data['all_tag_weight'].map(lambda x: [0] if len(x) == 0 else x)"
   ]
  },
  {
   "cell_type": "code",
   "execution_count": 12,
   "metadata": {},
   "outputs": [],
   "source": [
    "# tag_data['all_tag_weight']= tag_data['all_tag_weight'].replace(\"\",0)"
   ]
  },
  {
   "cell_type": "code",
   "execution_count": 13,
   "metadata": {},
   "outputs": [],
   "source": [
    "tag_data = tag_data[['deviceid','all_tag_word','all_tag_weight']]"
   ]
  },
  {
   "cell_type": "code",
   "execution_count": 14,
   "metadata": {},
   "outputs": [
    {
     "data": {
      "text/plain": [
       "['娱乐资讯', '梅艳芳', '张学友', '豪车', '赵本山', '刘德华', '音乐', '明星', '港台娱乐']"
      ]
     },
     "execution_count": 14,
     "metadata": {},
     "output_type": "execute_result"
    }
   ],
   "source": [
    "tag_data.loc[21,'all_tag_word']"
   ]
  },
  {
   "cell_type": "code",
   "execution_count": 15,
   "metadata": {},
   "outputs": [
    {
     "data": {
      "text/plain": [
       "['1.7289681671404824',\n",
       " '17.12037108613975',\n",
       " '16.844249659324227',\n",
       " '15.163125851055444',\n",
       " '11.76896689897077',\n",
       " '11.509515101601869',\n",
       " '6.006569478851135',\n",
       " '0.5520065602510347',\n",
       " '0.30967708613082306']"
      ]
     },
     "execution_count": 15,
     "metadata": {},
     "output_type": "execute_result"
    }
   ],
   "source": [
    "tag_data.loc[21,'all_tag_weight']"
   ]
  },
  {
   "cell_type": "code",
   "execution_count": 16,
   "metadata": {},
   "outputs": [],
   "source": [
    "tag_data = tag_data.groupby(by='deviceid').sum() "
   ]
  },
  {
   "cell_type": "code",
   "execution_count": 17,
   "metadata": {},
   "outputs": [],
   "source": [
    "tag_data.reset_index(inplace = True)"
   ]
  },
  {
   "cell_type": "code",
   "execution_count": 18,
   "metadata": {},
   "outputs": [
    {
     "data": {
      "text/html": [
       "<div>\n",
       "<style scoped>\n",
       "    .dataframe tbody tr th:only-of-type {\n",
       "        vertical-align: middle;\n",
       "    }\n",
       "\n",
       "    .dataframe tbody tr th {\n",
       "        vertical-align: top;\n",
       "    }\n",
       "\n",
       "    .dataframe thead th {\n",
       "        text-align: right;\n",
       "    }\n",
       "</style>\n",
       "<table border=\"1\" class=\"dataframe\">\n",
       "  <thead>\n",
       "    <tr style=\"text-align: right;\">\n",
       "      <th></th>\n",
       "      <th>deviceid</th>\n",
       "      <th>all_tag_word</th>\n",
       "      <th>all_tag_weight</th>\n",
       "    </tr>\n",
       "  </thead>\n",
       "  <tbody>\n",
       "    <tr>\n",
       "      <th>0</th>\n",
       "      <td>000046581b8a28c431be90c278674925</td>\n",
       "      <td>[美食, --其他, 美食攻略, 花絮片段, 玩具, 吃秀, 社会热点, 中医, 片段, 大...</td>\n",
       "      <td>[0.4171913341996304, 0.36140167938226964, 0.35...</td>\n",
       "    </tr>\n",
       "    <tr>\n",
       "      <th>1</th>\n",
       "      <td>00016381ab699d4e76dc99291e79e7a1</td>\n",
       "      <td>[未知]</td>\n",
       "      <td>[0]</td>\n",
       "    </tr>\n",
       "    <tr>\n",
       "      <th>2</th>\n",
       "      <td>0001c7e6a85a3a4498fe0c5f29f3a379</td>\n",
       "      <td>[社会热点, --其他, 古代, 范冰冰, 台湾, 李治廷, 彦希, 灰姑娘, 清朝, 总裁...</td>\n",
       "      <td>[0.8310844893612963, 0.3135020218516166, 6.367...</td>\n",
       "    </tr>\n",
       "    <tr>\n",
       "      <th>3</th>\n",
       "      <td>000207c515d01c00e9144c6866b546a7</td>\n",
       "      <td>[海军, 航母, 导弹, 武器, 武器, 导弹, 洲际导弹, 大妈, 海军, 航母, 网游,...</td>\n",
       "      <td>[17.15805189101101, 13.780793638746603, 13.220...</td>\n",
       "    </tr>\n",
       "    <tr>\n",
       "      <th>4</th>\n",
       "      <td>000355d66e3fe127c8c2dd1ef60322a3</td>\n",
       "      <td>[东北, 大盘, 菜谱]</td>\n",
       "      <td>[37.141856323864594, 35.747926949211916, 4.949...</td>\n",
       "    </tr>\n",
       "  </tbody>\n",
       "</table>\n",
       "</div>"
      ],
      "text/plain": [
       "                           deviceid  \\\n",
       "0  000046581b8a28c431be90c278674925   \n",
       "1  00016381ab699d4e76dc99291e79e7a1   \n",
       "2  0001c7e6a85a3a4498fe0c5f29f3a379   \n",
       "3  000207c515d01c00e9144c6866b546a7   \n",
       "4  000355d66e3fe127c8c2dd1ef60322a3   \n",
       "\n",
       "                                        all_tag_word  \\\n",
       "0  [美食, --其他, 美食攻略, 花絮片段, 玩具, 吃秀, 社会热点, 中医, 片段, 大...   \n",
       "1                                               [未知]   \n",
       "2  [社会热点, --其他, 古代, 范冰冰, 台湾, 李治廷, 彦希, 灰姑娘, 清朝, 总裁...   \n",
       "3  [海军, 航母, 导弹, 武器, 武器, 导弹, 洲际导弹, 大妈, 海军, 航母, 网游,...   \n",
       "4                                       [东北, 大盘, 菜谱]   \n",
       "\n",
       "                                      all_tag_weight  \n",
       "0  [0.4171913341996304, 0.36140167938226964, 0.35...  \n",
       "1                                                [0]  \n",
       "2  [0.8310844893612963, 0.3135020218516166, 6.367...  \n",
       "3  [17.15805189101101, 13.780793638746603, 13.220...  \n",
       "4  [37.141856323864594, 35.747926949211916, 4.949...  "
      ]
     },
     "execution_count": 18,
     "metadata": {},
     "output_type": "execute_result"
    }
   ],
   "source": [
    "tag_data.head()"
   ]
  },
  {
   "cell_type": "code",
   "execution_count": 19,
   "metadata": {},
   "outputs": [],
   "source": [
    "tag_data['all_tag_word'] = tag_data['all_tag_word'].map(lambda x:[i for i in x if i != ''])"
   ]
  },
  {
   "cell_type": "code",
   "execution_count": 20,
   "metadata": {},
   "outputs": [],
   "source": [
    "tag_data['all_tag_weight'] = tag_data['all_tag_weight'].map(lambda x:[i for i in x if i != ''])"
   ]
  },
  {
   "cell_type": "code",
   "execution_count": 21,
   "metadata": {},
   "outputs": [
    {
     "data": {
      "text/plain": [
       "(114584, 3)"
      ]
     },
     "execution_count": 21,
     "metadata": {},
     "output_type": "execute_result"
    }
   ],
   "source": [
    "tag_data.shape"
   ]
  },
  {
   "cell_type": "code",
   "execution_count": 22,
   "metadata": {},
   "outputs": [
    {
     "data": {
      "text/plain": [
       "(114584,)"
      ]
     },
     "execution_count": 22,
     "metadata": {},
     "output_type": "execute_result"
    }
   ],
   "source": [
    "tag_data['deviceid'].unique().shape"
   ]
  },
  {
   "cell_type": "code",
   "execution_count": 23,
   "metadata": {},
   "outputs": [
    {
     "data": {
      "text/html": [
       "<div>\n",
       "<style scoped>\n",
       "    .dataframe tbody tr th:only-of-type {\n",
       "        vertical-align: middle;\n",
       "    }\n",
       "\n",
       "    .dataframe tbody tr th {\n",
       "        vertical-align: top;\n",
       "    }\n",
       "\n",
       "    .dataframe thead th {\n",
       "        text-align: right;\n",
       "    }\n",
       "</style>\n",
       "<table border=\"1\" class=\"dataframe\">\n",
       "  <thead>\n",
       "    <tr style=\"text-align: right;\">\n",
       "      <th></th>\n",
       "      <th>deviceid</th>\n",
       "      <th>all_tag_word</th>\n",
       "      <th>all_tag_weight</th>\n",
       "    </tr>\n",
       "  </thead>\n",
       "  <tbody>\n",
       "    <tr>\n",
       "      <th>0</th>\n",
       "      <td>000046581b8a28c431be90c278674925</td>\n",
       "      <td>[美食, --其他, 美食攻略, 花絮片段, 玩具, 吃秀, 社会热点, 中医, 片段, 大...</td>\n",
       "      <td>[0.4171913341996304, 0.36140167938226964, 0.35...</td>\n",
       "    </tr>\n",
       "    <tr>\n",
       "      <th>1</th>\n",
       "      <td>00016381ab699d4e76dc99291e79e7a1</td>\n",
       "      <td>[未知]</td>\n",
       "      <td>[0]</td>\n",
       "    </tr>\n",
       "    <tr>\n",
       "      <th>2</th>\n",
       "      <td>0001c7e6a85a3a4498fe0c5f29f3a379</td>\n",
       "      <td>[社会热点, --其他, 古代, 范冰冰, 台湾, 李治廷, 彦希, 灰姑娘, 清朝, 总裁...</td>\n",
       "      <td>[0.8310844893612963, 0.3135020218516166, 6.367...</td>\n",
       "    </tr>\n",
       "    <tr>\n",
       "      <th>3</th>\n",
       "      <td>000207c515d01c00e9144c6866b546a7</td>\n",
       "      <td>[海军, 航母, 导弹, 武器, 武器, 导弹, 洲际导弹, 大妈, 海军, 航母, 网游,...</td>\n",
       "      <td>[17.15805189101101, 13.780793638746603, 13.220...</td>\n",
       "    </tr>\n",
       "    <tr>\n",
       "      <th>4</th>\n",
       "      <td>000355d66e3fe127c8c2dd1ef60322a3</td>\n",
       "      <td>[东北, 大盘, 菜谱]</td>\n",
       "      <td>[37.141856323864594, 35.747926949211916, 4.949...</td>\n",
       "    </tr>\n",
       "    <tr>\n",
       "      <th>...</th>\n",
       "      <td>...</td>\n",
       "      <td>...</td>\n",
       "      <td>...</td>\n",
       "    </tr>\n",
       "    <tr>\n",
       "      <th>114579</th>\n",
       "      <td>fffe93df08d65513d293b7c376ca9349</td>\n",
       "      <td>[未知, 未知]</td>\n",
       "      <td>[0, 0]</td>\n",
       "    </tr>\n",
       "    <tr>\n",
       "      <th>114580</th>\n",
       "      <td>fffecf99aa7d5bdd2155c1f4093154d6</td>\n",
       "      <td>[郑伊健, 陈小春, 香港, 演唱会, 音乐, 怀孕, 港台娱乐]</td>\n",
       "      <td>[30.232701285055935, 17.267250194945827, 12.15...</td>\n",
       "    </tr>\n",
       "    <tr>\n",
       "      <th>114581</th>\n",
       "      <td>ffff31901148627b225fbb434e19ab06</td>\n",
       "      <td>[萌宠, 花絮片段, 宠物狗, 蟒蛇, 龙珠, 赵刚, 自然地理, 巨蟒, 宠物, 中国历史...</td>\n",
       "      <td>[0.9336857225544823, 0.2993210383565363, 5.557...</td>\n",
       "    </tr>\n",
       "    <tr>\n",
       "      <th>114582</th>\n",
       "      <td>ffffcb1db65dd1fdc4d09f8c3bbab2ea</td>\n",
       "      <td>[未知]</td>\n",
       "      <td>[0]</td>\n",
       "    </tr>\n",
       "    <tr>\n",
       "      <th>114583</th>\n",
       "      <td>ffffe5944124a7b7656faa8610ba58d9</td>\n",
       "      <td>[未知]</td>\n",
       "      <td>[0]</td>\n",
       "    </tr>\n",
       "  </tbody>\n",
       "</table>\n",
       "<p>114584 rows × 3 columns</p>\n",
       "</div>"
      ],
      "text/plain": [
       "                                deviceid  \\\n",
       "0       000046581b8a28c431be90c278674925   \n",
       "1       00016381ab699d4e76dc99291e79e7a1   \n",
       "2       0001c7e6a85a3a4498fe0c5f29f3a379   \n",
       "3       000207c515d01c00e9144c6866b546a7   \n",
       "4       000355d66e3fe127c8c2dd1ef60322a3   \n",
       "...                                  ...   \n",
       "114579  fffe93df08d65513d293b7c376ca9349   \n",
       "114580  fffecf99aa7d5bdd2155c1f4093154d6   \n",
       "114581  ffff31901148627b225fbb434e19ab06   \n",
       "114582  ffffcb1db65dd1fdc4d09f8c3bbab2ea   \n",
       "114583  ffffe5944124a7b7656faa8610ba58d9   \n",
       "\n",
       "                                             all_tag_word  \\\n",
       "0       [美食, --其他, 美食攻略, 花絮片段, 玩具, 吃秀, 社会热点, 中医, 片段, 大...   \n",
       "1                                                    [未知]   \n",
       "2       [社会热点, --其他, 古代, 范冰冰, 台湾, 李治廷, 彦希, 灰姑娘, 清朝, 总裁...   \n",
       "3       [海军, 航母, 导弹, 武器, 武器, 导弹, 洲际导弹, 大妈, 海军, 航母, 网游,...   \n",
       "4                                            [东北, 大盘, 菜谱]   \n",
       "...                                                   ...   \n",
       "114579                                           [未知, 未知]   \n",
       "114580                  [郑伊健, 陈小春, 香港, 演唱会, 音乐, 怀孕, 港台娱乐]   \n",
       "114581  [萌宠, 花絮片段, 宠物狗, 蟒蛇, 龙珠, 赵刚, 自然地理, 巨蟒, 宠物, 中国历史...   \n",
       "114582                                               [未知]   \n",
       "114583                                               [未知]   \n",
       "\n",
       "                                           all_tag_weight  \n",
       "0       [0.4171913341996304, 0.36140167938226964, 0.35...  \n",
       "1                                                     [0]  \n",
       "2       [0.8310844893612963, 0.3135020218516166, 6.367...  \n",
       "3       [17.15805189101101, 13.780793638746603, 13.220...  \n",
       "4       [37.141856323864594, 35.747926949211916, 4.949...  \n",
       "...                                                   ...  \n",
       "114579                                             [0, 0]  \n",
       "114580  [30.232701285055935, 17.267250194945827, 12.15...  \n",
       "114581  [0.9336857225544823, 0.2993210383565363, 5.557...  \n",
       "114582                                                [0]  \n",
       "114583                                                [0]  \n",
       "\n",
       "[114584 rows x 3 columns]"
      ]
     },
     "execution_count": 23,
     "metadata": {},
     "output_type": "execute_result"
    }
   ],
   "source": [
    "tag_data[['deviceid','all_tag_word','all_tag_weight']]"
   ]
  },
  {
   "cell_type": "code",
   "execution_count": 24,
   "metadata": {},
   "outputs": [
    {
     "name": "stdout",
     "output_type": "stream",
     "text": [
      "ACTIVE TO PICKLE:  2.9672656059265137\n"
     ]
    }
   ],
   "source": [
    "if not os.path.exists(\"{}/tag_weight_data.pickle\".format(pickle_path)):\n",
    "    t1 = time.time()\n",
    "    tag_data[['deviceid','all_tag_word','all_tag_weight']].to_pickle(\"{}/tag_weight_new_data.pickle\".format(pickle_path))\n",
    "    print('ACTIVE TO PICKLE: ',time.time()-t1)"
   ]
  },
  {
   "cell_type": "code",
   "execution_count": 27,
   "metadata": {},
   "outputs": [],
   "source": [
    "def flatten_app(df):    \n",
    "    u = []\n",
    "    a = []\n",
    "    for i in tqdm(range(len(df['deviceid'].values))):\n",
    "        u += [df['deviceid'].values[i]]*df['tag_len'].values[i]\n",
    "        a += list(df['all_tag_word'].values[i])\n",
    "        \n",
    "    new_df = pd.DataFrame()\n",
    "    new_df['deviceid'] = u\n",
    "    new_df['all_tag_word'] = a\n",
    "        \n",
    "    return new_df"
   ]
  },
  {
   "cell_type": "code",
   "execution_count": 25,
   "metadata": {},
   "outputs": [],
   "source": [
    "tag_data['tag_len'] = tag_data['all_tag_word'].map(lambda x:len(x))"
   ]
  },
  {
   "cell_type": "code",
   "execution_count": 33,
   "metadata": {},
   "outputs": [
    {
     "name": "stderr",
     "output_type": "stream",
     "text": [
      "100%|██████████| 114584/114584 [00:00<00:00, 120284.51it/s]\n"
     ]
    }
   ],
   "source": [
    "deal_tag_data = flatten_app(tag_data)"
   ]
  },
  {
   "cell_type": "code",
   "execution_count": 34,
   "metadata": {},
   "outputs": [
    {
     "data": {
      "text/plain": [
       "(4673627, 2)"
      ]
     },
     "execution_count": 34,
     "metadata": {},
     "output_type": "execute_result"
    }
   ],
   "source": [
    "deal_tag_data.shape"
   ]
  },
  {
   "cell_type": "code",
   "execution_count": 35,
   "metadata": {},
   "outputs": [],
   "source": [
    "deal_tag_data.drop_duplicates(['deviceid','all_tag_word'],inplace = True)"
   ]
  },
  {
   "cell_type": "code",
   "execution_count": 36,
   "metadata": {},
   "outputs": [
    {
     "data": {
      "text/plain": [
       "(4321790, 2)"
      ]
     },
     "execution_count": 36,
     "metadata": {},
     "output_type": "execute_result"
    }
   ],
   "source": [
    "deal_tag_data.shape"
   ]
  },
  {
   "cell_type": "code",
   "execution_count": 37,
   "metadata": {},
   "outputs": [
    {
     "name": "stdout",
     "output_type": "stream",
     "text": [
      "ACTIVE TO PICKLE:  1.6340346336364746\n"
     ]
    }
   ],
   "source": [
    "if not os.path.exists(\"{}/del_tag_data.pickle\".format(pickle_path)):\n",
    "    t1 = time.time()\n",
    "    deal_tag_data.to_pickle(\"{}/deal_tag_new_data.pickle\".format(pickle_path))\n",
    "    print('ACTIVE TO PICKLE: ',time.time()-t1)"
   ]
  },
  {
   "cell_type": "code",
   "execution_count": null,
   "metadata": {},
   "outputs": [],
   "source": []
  }
 ],
 "metadata": {
  "kernelspec": {
   "display_name": "Python 3",
   "language": "python",
   "name": "python3"
  },
  "language_info": {
   "codemirror_mode": {
    "name": "ipython",
    "version": 3
   },
   "file_extension": ".py",
   "mimetype": "text/x-python",
   "name": "python",
   "nbconvert_exporter": "python",
   "pygments_lexer": "ipython3",
   "version": "3.6.8"
  }
 },
 "nbformat": 4,
 "nbformat_minor": 2
}
