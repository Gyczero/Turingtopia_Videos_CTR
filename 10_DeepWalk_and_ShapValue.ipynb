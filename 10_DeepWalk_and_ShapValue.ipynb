{
 "cells": [
  {
   "cell_type": "markdown",
   "metadata": {},
   "source": [
    "# Deepwalk"
   ]
  },
  {
   "cell_type": "code",
   "execution_count": null,
   "metadata": {},
   "outputs": [],
   "source": [
    "import random\n",
    "def deepwalk(log,f1,f2,flag,L):\n",
    "    #Deepwalk算法，\n",
    "    print(\"deepwalk:\",f1,f2)\n",
    "    #构建图\n",
    "    dic={}\n",
    "    for item in log[[f1,f2]].values:\n",
    "        try:\n",
    "            str(int(item[1]))\n",
    "            str(int(item[0]))\n",
    "        except:\n",
    "            continue\n",
    "        try:\n",
    "            dic['item_'+str(int(item[1]))].add('user_'+str(int(item[0])))\n",
    "        except:\n",
    "            dic['item_'+str(int(item[1]))]=set(['user_'+str(int(item[0]))])\n",
    "        try:\n",
    "            dic['user_'+str(int(item[0]))].add('item_'+str(int(item[1])))\n",
    "        except:\n",
    "            dic['user_'+str(int(item[0]))]=set(['item_'+str(int(item[1]))])\n",
    "    dic_cont={}\n",
    "    for key in dic:\n",
    "        dic[key]=list(dic[key])\n",
    "        dic_cont[key]=len(dic[key])\n",
    "    print(\"creating\")\n",
    "    #构建路径\n",
    "    path_length=10\n",
    "    sentences=[]\n",
    "    length=[]\n",
    "    for key in dic:\n",
    "        sentence=[key]\n",
    "        while len(sentence)!=path_length:\n",
    "            key=dic[sentence[-1]][random.randint(0,dic_cont[sentence[-1]]-1)]\n",
    "            if len(sentence)>=2 and key == sentence[-2]:\n",
    "                break\n",
    "            else:\n",
    "                sentence.append(key)\n",
    "        sentences.append(sentence)\n",
    "        length.append(len(sentence))\n",
    "        if len(sentences)%100000==0:\n",
    "            print(len(sentences))\n",
    "    print(np.mean(length))\n",
    "    print(len(sentences))\n",
    "    #训练Deepwalk模型\n",
    "    print('training...')\n",
    "    random.shuffle(sentences)\n",
    "    model = Word2Vec(sentences, size=L, window=5,min_count=5,sg=0, hs=1, workers=10,iter=20)\n",
    "    print('outputing...')\n",
    "    #输出\n",
    "    values=set(log[f1].values)\n",
    "    w2v=[]\n",
    "    for v in values:\n",
    "        try:\n",
    "            a=[int(v)]\n",
    "            a.extend(model['user_'+str(int(v))])\n",
    "            w2v.append(a)\n",
    "        except:\n",
    "            pass\n",
    "    out_df=pd.DataFrame(w2v)\n",
    "    names=[f1]\n",
    "    for i in range(L):\n",
    "        names.append(f1+'_'+ f2+'_'+names[0]+'_deepwalk_embedding_'+str(L)+'_'+str(i))\n",
    "    out_df.columns = names\n",
    "    out_df.to_pickle('../emb/' +f1+'_'+ f2+'_deepwalk_'+str(L)+'.pkl') \n",
    "    ########################\n",
    "    values=set(log[f2].values)\n",
    "    w2v=[]\n",
    "    for v in values:\n",
    "        try:\n",
    "            a=[int(v)]\n",
    "            a.extend(model['item_'+str(int(v))])\n",
    "            w2v.append(a)\n",
    "        except:\n",
    "            pass\n",
    "    out_df=pd.DataFrame(w2v)\n",
    "    names=[f2]\n",
    "    for i in range(L):\n",
    "        names.append(f2+'_'+ f1+'_'+names[0]+'_deepwalk_embedding_'+str(L)+'_'+str(i))\n",
    "    out_df.columns = names\n",
    "    out_df.to_pickle('../emb/' +f2+'_'+ f1+'_deepwalk_'+str(L)+'.pkl') "
   ]
  },
  {
   "cell_type": "markdown",
   "metadata": {},
   "source": [
    "# 向量点积"
   ]
  },
  {
   "cell_type": "code",
   "execution_count": null,
   "metadata": {},
   "outputs": [],
   "source": [
    "deviceid_newsid = [\"deviceid_newsid_emb_\"+str(i)for i in range(8)]\n",
    "newsid_deviceid = [\"newsid_deviceid_emb_\"+str(i)for i in range(8)]\n",
    "df[\"cross_vector_sum\"] =np.sum(df[deviceid_newsid].values * df[newsid_deviceid].values,axis=1)\n",
    "deviceid = list(df[\"deviceid\"].unique())\n",
    "average_metrix = np.zeros((len(deviceid),8))\n",
    "for index,i in enumerate(deviceid):\n",
    "    if index%100==0:\n",
    "        print(index)\n",
    "    indes = df[\"deviceid\"] == i\n",
    "    average_metrix[index] = np.mean(df[indes][newsid_deviceid],axis=0)\n",
    "average_metrix = pd.DataFrame(average_metrix,columns=[i+\"_ave\"for i in newsid_deviceid])\n",
    "average_metrix[\"deviceid\"] = deviceid\n",
    "df = df.merge(average_metrix,on=[\"deviceid\"],how='left')\n",
    "ave_deviceid = [i+\"_ave\"for i in newsid_deviceid]\n",
    "df[\"ave_deviceid*newsid_deviceid\"] =np.sum(df[ave_deviceid].values * df[newsid_deviceid].values,axis=1)"
   ]
  },
  {
   "cell_type": "markdown",
   "metadata": {},
   "source": [
    "# SHAP筛选特征"
   ]
  },
  {
   "cell_type": "code",
   "execution_count": null,
   "metadata": {},
   "outputs": [],
   "source": [
    "import shap\n",
    "explainer = shap.TreeExplainer(clf)\n",
    "# val_x也比较大，这里只抽样其中0.2来测\n",
    "shap_values = explainer.shap_values(val_x.sample(frac = 0.2))\n",
    "shap.summary_plot(shap_values, val_x,max_display=30)\n",
    "\n",
    "global_shap_values = pd.DataFrame(np.abs(shap_values[0]).mean(0),index=val_x.columns).reset_index()\n",
    "global_shap_values.columns = ['var','feature_importances_']\n",
    "global_shap_values = global_shap_values.sort_values('feature_importances_',ascending=False)"
   ]
  }
 ],
 "metadata": {
  "kernelspec": {
   "display_name": "Python 3",
   "language": "python",
   "name": "python3"
  },
  "language_info": {
   "codemirror_mode": {
    "name": "ipython",
    "version": 3
   },
   "file_extension": ".py",
   "mimetype": "text/x-python",
   "name": "python",
   "nbconvert_exporter": "python",
   "pygments_lexer": "ipython3",
   "version": "3.6.8"
  }
 },
 "nbformat": 4,
 "nbformat_minor": 2
}
