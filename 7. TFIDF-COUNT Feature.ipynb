{
 "cells": [
  {
   "cell_type": "code",
   "execution_count": 1,
   "metadata": {},
   "outputs": [
    {
     "name": "stdout",
     "output_type": "stream",
     "text": [
      "(15030273, 15)\n"
     ]
    }
   ],
   "source": [
    "import numpy as np\n",
    "import pandas as pd\n",
    "import seaborn as sns\n",
    "import matplotlib.pyplot as plt\n",
    "import lightgbm as lgb\n",
    "import xgboost as xgb\n",
    "from sklearn.preprocessing import LabelEncoder,OneHotEncoder\n",
    "from sklearn.feature_extraction.text import CountVectorizer,TfidfVectorizer,HashingVectorizer\n",
    "from sklearn.decomposition import TruncatedSVD,SparsePCA\n",
    "from sklearn.model_selection import KFold,StratifiedKFold\n",
    "from sklearn.linear_model import LogisticRegression\n",
    "from sklearn.metrics import accuracy_score,roc_auc_score,f1_score,recall_score\n",
    "\n",
    "import gc\n",
    "import time\n",
    "import os\n",
    "import sys\n",
    "import warnings\n",
    "warnings.filterwarnings('ignore')\n",
    "\n",
    "pickle_path = \"../pickle\"\n",
    "\n",
    "train = pd.read_csv(\"../data/train.csv\")\n",
    "test = pd.read_csv(\"../data/test.csv\")\n",
    "\n",
    "app_data_nlp = pd.read_pickle(\"{}/device_new_app.pickle\".format(pickle_path))\n",
    "user_fav_nlp = pd.read_pickle(\"{}/tag_weight_new_data.pickle\".format(pickle_path))\n",
    "\n",
    "all_data = train.append(test,sort = False)\n",
    "# all_data = all_data[['target','deviceid']]\n",
    "all_data = all_data.reset_index(drop=True)\n",
    "print(all_data.shape)"
   ]
  },
  {
   "cell_type": "code",
   "execution_count": 2,
   "metadata": {},
   "outputs": [
    {
     "data": {
      "text/html": [
       "<div>\n",
       "<style scoped>\n",
       "    .dataframe tbody tr th:only-of-type {\n",
       "        vertical-align: middle;\n",
       "    }\n",
       "\n",
       "    .dataframe tbody tr th {\n",
       "        vertical-align: top;\n",
       "    }\n",
       "\n",
       "    .dataframe thead th {\n",
       "        text-align: right;\n",
       "    }\n",
       "</style>\n",
       "<table border=\"1\" class=\"dataframe\">\n",
       "  <thead>\n",
       "    <tr style=\"text-align: right;\">\n",
       "      <th></th>\n",
       "      <th>deviceid</th>\n",
       "      <th>applist</th>\n",
       "      <th>app_len</th>\n",
       "    </tr>\n",
       "  </thead>\n",
       "  <tbody>\n",
       "    <tr>\n",
       "      <th>0</th>\n",
       "      <td>000046581b8a28c431be90c278674925</td>\n",
       "      <td>[app_133, app_1]</td>\n",
       "      <td>2</td>\n",
       "    </tr>\n",
       "    <tr>\n",
       "      <th>1</th>\n",
       "      <td>00016381ab699d4e76dc99291e79e7a1</td>\n",
       "      <td>[app_133]</td>\n",
       "      <td>1</td>\n",
       "    </tr>\n",
       "    <tr>\n",
       "      <th>2</th>\n",
       "      <td>0001c7e6a85a3a4498fe0c5f29f3a379</td>\n",
       "      <td>[app_133]</td>\n",
       "      <td>1</td>\n",
       "    </tr>\n",
       "    <tr>\n",
       "      <th>3</th>\n",
       "      <td>000207c515d01c00e9144c6866b546a7</td>\n",
       "      <td>[app_133, app_1]</td>\n",
       "      <td>2</td>\n",
       "    </tr>\n",
       "    <tr>\n",
       "      <th>4</th>\n",
       "      <td>000355d66e3fe127c8c2dd1ef60322a3</td>\n",
       "      <td>[app_84, app_85, app_4, app_5, app_86, app_87,...</td>\n",
       "      <td>86</td>\n",
       "    </tr>\n",
       "  </tbody>\n",
       "</table>\n",
       "</div>"
      ],
      "text/plain": [
       "                           deviceid  \\\n",
       "0  000046581b8a28c431be90c278674925   \n",
       "1  00016381ab699d4e76dc99291e79e7a1   \n",
       "2  0001c7e6a85a3a4498fe0c5f29f3a379   \n",
       "3  000207c515d01c00e9144c6866b546a7   \n",
       "4  000355d66e3fe127c8c2dd1ef60322a3   \n",
       "\n",
       "                                             applist  app_len  \n",
       "0                                   [app_133, app_1]        2  \n",
       "1                                          [app_133]        1  \n",
       "2                                          [app_133]        1  \n",
       "3                                   [app_133, app_1]        2  \n",
       "4  [app_84, app_85, app_4, app_5, app_86, app_87,...       86  "
      ]
     },
     "execution_count": 2,
     "metadata": {},
     "output_type": "execute_result"
    }
   ],
   "source": [
    "app_data_nlp.head()"
   ]
  },
  {
   "cell_type": "code",
   "execution_count": 3,
   "metadata": {},
   "outputs": [
    {
     "data": {
      "text/plain": [
       "(114584, 3)"
      ]
     },
     "execution_count": 3,
     "metadata": {},
     "output_type": "execute_result"
    }
   ],
   "source": [
    "app_data_nlp.shape"
   ]
  },
  {
   "cell_type": "code",
   "execution_count": 4,
   "metadata": {},
   "outputs": [
    {
     "data": {
      "text/html": [
       "<div>\n",
       "<style scoped>\n",
       "    .dataframe tbody tr th:only-of-type {\n",
       "        vertical-align: middle;\n",
       "    }\n",
       "\n",
       "    .dataframe tbody tr th {\n",
       "        vertical-align: top;\n",
       "    }\n",
       "\n",
       "    .dataframe thead th {\n",
       "        text-align: right;\n",
       "    }\n",
       "</style>\n",
       "<table border=\"1\" class=\"dataframe\">\n",
       "  <thead>\n",
       "    <tr style=\"text-align: right;\">\n",
       "      <th></th>\n",
       "      <th>deviceid</th>\n",
       "      <th>all_tag_word</th>\n",
       "      <th>all_tag_weight</th>\n",
       "    </tr>\n",
       "  </thead>\n",
       "  <tbody>\n",
       "    <tr>\n",
       "      <th>0</th>\n",
       "      <td>000046581b8a28c431be90c278674925</td>\n",
       "      <td>[美食, --其他, 美食攻略, 花絮片段, 玩具, 吃秀, 社会热点, 中医, 片段, 大...</td>\n",
       "      <td>[0.4171913341996304, 0.36140167938226964, 0.35...</td>\n",
       "    </tr>\n",
       "    <tr>\n",
       "      <th>1</th>\n",
       "      <td>00016381ab699d4e76dc99291e79e7a1</td>\n",
       "      <td>[未知]</td>\n",
       "      <td>[0]</td>\n",
       "    </tr>\n",
       "    <tr>\n",
       "      <th>2</th>\n",
       "      <td>0001c7e6a85a3a4498fe0c5f29f3a379</td>\n",
       "      <td>[社会热点, --其他, 古代, 范冰冰, 台湾, 李治廷, 彦希, 灰姑娘, 清朝, 总裁...</td>\n",
       "      <td>[0.8310844893612963, 0.3135020218516166, 6.367...</td>\n",
       "    </tr>\n",
       "    <tr>\n",
       "      <th>3</th>\n",
       "      <td>000207c515d01c00e9144c6866b546a7</td>\n",
       "      <td>[海军, 航母, 导弹, 武器, 武器, 导弹, 洲际导弹, 大妈, 海军, 航母, 网游,...</td>\n",
       "      <td>[17.15805189101101, 13.780793638746603, 13.220...</td>\n",
       "    </tr>\n",
       "    <tr>\n",
       "      <th>4</th>\n",
       "      <td>000355d66e3fe127c8c2dd1ef60322a3</td>\n",
       "      <td>[东北, 大盘, 菜谱]</td>\n",
       "      <td>[37.141856323864594, 35.747926949211916, 4.949...</td>\n",
       "    </tr>\n",
       "  </tbody>\n",
       "</table>\n",
       "</div>"
      ],
      "text/plain": [
       "                           deviceid  \\\n",
       "0  000046581b8a28c431be90c278674925   \n",
       "1  00016381ab699d4e76dc99291e79e7a1   \n",
       "2  0001c7e6a85a3a4498fe0c5f29f3a379   \n",
       "3  000207c515d01c00e9144c6866b546a7   \n",
       "4  000355d66e3fe127c8c2dd1ef60322a3   \n",
       "\n",
       "                                        all_tag_word  \\\n",
       "0  [美食, --其他, 美食攻略, 花絮片段, 玩具, 吃秀, 社会热点, 中医, 片段, 大...   \n",
       "1                                               [未知]   \n",
       "2  [社会热点, --其他, 古代, 范冰冰, 台湾, 李治廷, 彦希, 灰姑娘, 清朝, 总裁...   \n",
       "3  [海军, 航母, 导弹, 武器, 武器, 导弹, 洲际导弹, 大妈, 海军, 航母, 网游,...   \n",
       "4                                       [东北, 大盘, 菜谱]   \n",
       "\n",
       "                                      all_tag_weight  \n",
       "0  [0.4171913341996304, 0.36140167938226964, 0.35...  \n",
       "1                                                [0]  \n",
       "2  [0.8310844893612963, 0.3135020218516166, 6.367...  \n",
       "3  [17.15805189101101, 13.780793638746603, 13.220...  \n",
       "4  [37.141856323864594, 35.747926949211916, 4.949...  "
      ]
     },
     "execution_count": 4,
     "metadata": {},
     "output_type": "execute_result"
    }
   ],
   "source": [
    "user_fav_nlp.head()"
   ]
  },
  {
   "cell_type": "code",
   "execution_count": 5,
   "metadata": {},
   "outputs": [
    {
     "data": {
      "text/plain": [
       "(114584, 3)"
      ]
     },
     "execution_count": 5,
     "metadata": {},
     "output_type": "execute_result"
    }
   ],
   "source": [
    "user_fav_nlp.shape"
   ]
  },
  {
   "cell_type": "code",
   "execution_count": 7,
   "metadata": {},
   "outputs": [
    {
     "data": {
      "text/plain": [
       "(11376681, 15)"
      ]
     },
     "execution_count": 7,
     "metadata": {},
     "output_type": "execute_result"
    }
   ],
   "source": [
    "train.shape"
   ]
  },
  {
   "cell_type": "code",
   "execution_count": 8,
   "metadata": {},
   "outputs": [
    {
     "data": {
      "text/plain": [
       "(3653592, 13)"
      ]
     },
     "execution_count": 8,
     "metadata": {},
     "output_type": "execute_result"
    }
   ],
   "source": [
    "test.shape"
   ]
  },
  {
   "cell_type": "code",
   "execution_count": 9,
   "metadata": {},
   "outputs": [
    {
     "data": {
      "text/plain": [
       "(15030273, 15)"
      ]
     },
     "execution_count": 9,
     "metadata": {},
     "output_type": "execute_result"
    }
   ],
   "source": [
    "all_data.shape"
   ]
  },
  {
   "cell_type": "code",
   "execution_count": 10,
   "metadata": {},
   "outputs": [
    {
     "data": {
      "text/html": [
       "<div>\n",
       "<style scoped>\n",
       "    .dataframe tbody tr th:only-of-type {\n",
       "        vertical-align: middle;\n",
       "    }\n",
       "\n",
       "    .dataframe tbody tr th {\n",
       "        vertical-align: top;\n",
       "    }\n",
       "\n",
       "    .dataframe thead th {\n",
       "        text-align: right;\n",
       "    }\n",
       "</style>\n",
       "<table border=\"1\" class=\"dataframe\">\n",
       "  <thead>\n",
       "    <tr style=\"text-align: right;\">\n",
       "      <th></th>\n",
       "      <th>id</th>\n",
       "      <th>target</th>\n",
       "      <th>timestamp</th>\n",
       "      <th>deviceid</th>\n",
       "      <th>newsid</th>\n",
       "      <th>guid</th>\n",
       "      <th>pos</th>\n",
       "      <th>app_version</th>\n",
       "      <th>device_vendor</th>\n",
       "      <th>netmodel</th>\n",
       "      <th>osversion</th>\n",
       "      <th>lng</th>\n",
       "      <th>lat</th>\n",
       "      <th>device_version</th>\n",
       "      <th>ts</th>\n",
       "    </tr>\n",
       "  </thead>\n",
       "  <tbody>\n",
       "    <tr>\n",
       "      <th>0</th>\n",
       "      <td>1</td>\n",
       "      <td>0.0</td>\n",
       "      <td>NaN</td>\n",
       "      <td>8b2d7f2aed47ab32e9c6ae4f5ae00147</td>\n",
       "      <td>8008333091915950969</td>\n",
       "      <td>9a2c909ebc47aec49d9c160cdb4a6572</td>\n",
       "      <td>1</td>\n",
       "      <td>2.1.5</td>\n",
       "      <td>HONOR</td>\n",
       "      <td>g4</td>\n",
       "      <td>9</td>\n",
       "      <td>1.125385e+02</td>\n",
       "      <td>3.783793e+01</td>\n",
       "      <td>STF-AL00</td>\n",
       "      <td>1573298086436</td>\n",
       "    </tr>\n",
       "    <tr>\n",
       "      <th>1</th>\n",
       "      <td>2</td>\n",
       "      <td>0.0</td>\n",
       "      <td>NaN</td>\n",
       "      <td>8b2d7f2aed47ab32e9c6ae4f5ae00147</td>\n",
       "      <td>8008333091915950969</td>\n",
       "      <td>9a2c909ebc47aec49d9c160cdb4a6572</td>\n",
       "      <td>1</td>\n",
       "      <td>2.1.5</td>\n",
       "      <td>HONOR</td>\n",
       "      <td>w</td>\n",
       "      <td>9</td>\n",
       "      <td>1.117312e+02</td>\n",
       "      <td>3.562274e+01</td>\n",
       "      <td>STF-AL00</td>\n",
       "      <td>1573298087570</td>\n",
       "    </tr>\n",
       "    <tr>\n",
       "      <th>2</th>\n",
       "      <td>3</td>\n",
       "      <td>0.0</td>\n",
       "      <td>NaN</td>\n",
       "      <td>832aaa33cdf4a0938ba2c795eb3ffefd</td>\n",
       "      <td>4941885624885390992</td>\n",
       "      <td>d51a157d2b1e0e9aed4dd7f9900b85b2</td>\n",
       "      <td>2</td>\n",
       "      <td>1.9.9</td>\n",
       "      <td>vivo</td>\n",
       "      <td>w</td>\n",
       "      <td>8.1.0</td>\n",
       "      <td>4.940656e-324</td>\n",
       "      <td>4.940656e-324</td>\n",
       "      <td>V1818T</td>\n",
       "      <td>1573377075934</td>\n",
       "    </tr>\n",
       "    <tr>\n",
       "      <th>3</th>\n",
       "      <td>4</td>\n",
       "      <td>0.0</td>\n",
       "      <td>NaN</td>\n",
       "      <td>832aaa33cdf4a0938ba2c795eb3ffefd</td>\n",
       "      <td>6088376349846612406</td>\n",
       "      <td>d51a157d2b1e0e9aed4dd7f9900b85b2</td>\n",
       "      <td>1</td>\n",
       "      <td>1.9.9</td>\n",
       "      <td>vivo</td>\n",
       "      <td>w</td>\n",
       "      <td>8.1.0</td>\n",
       "      <td>4.940656e-324</td>\n",
       "      <td>4.940656e-324</td>\n",
       "      <td>V1818T</td>\n",
       "      <td>1573377044359</td>\n",
       "    </tr>\n",
       "    <tr>\n",
       "      <th>4</th>\n",
       "      <td>5</td>\n",
       "      <td>0.0</td>\n",
       "      <td>NaN</td>\n",
       "      <td>67dd9dac18cce1a6d79e8f20eefd98ab</td>\n",
       "      <td>5343094189765291622</td>\n",
       "      <td>625dc45744f59ddbc3ec8df161217188</td>\n",
       "      <td>0</td>\n",
       "      <td>2.1.1</td>\n",
       "      <td>xiaomi</td>\n",
       "      <td>w</td>\n",
       "      <td>9</td>\n",
       "      <td>1.167509e+02</td>\n",
       "      <td>3.656831e+01</td>\n",
       "      <td>Redmi Note 7</td>\n",
       "      <td>1573380989662</td>\n",
       "    </tr>\n",
       "  </tbody>\n",
       "</table>\n",
       "</div>"
      ],
      "text/plain": [
       "  id  target  timestamp                          deviceid  \\\n",
       "0  1     0.0        NaN  8b2d7f2aed47ab32e9c6ae4f5ae00147   \n",
       "1  2     0.0        NaN  8b2d7f2aed47ab32e9c6ae4f5ae00147   \n",
       "2  3     0.0        NaN  832aaa33cdf4a0938ba2c795eb3ffefd   \n",
       "3  4     0.0        NaN  832aaa33cdf4a0938ba2c795eb3ffefd   \n",
       "4  5     0.0        NaN  67dd9dac18cce1a6d79e8f20eefd98ab   \n",
       "\n",
       "                newsid                              guid  pos app_version  \\\n",
       "0  8008333091915950969  9a2c909ebc47aec49d9c160cdb4a6572    1       2.1.5   \n",
       "1  8008333091915950969  9a2c909ebc47aec49d9c160cdb4a6572    1       2.1.5   \n",
       "2  4941885624885390992  d51a157d2b1e0e9aed4dd7f9900b85b2    2       1.9.9   \n",
       "3  6088376349846612406  d51a157d2b1e0e9aed4dd7f9900b85b2    1       1.9.9   \n",
       "4  5343094189765291622  625dc45744f59ddbc3ec8df161217188    0       2.1.1   \n",
       "\n",
       "  device_vendor netmodel osversion            lng            lat  \\\n",
       "0         HONOR       g4         9   1.125385e+02   3.783793e+01   \n",
       "1         HONOR        w         9   1.117312e+02   3.562274e+01   \n",
       "2          vivo        w     8.1.0  4.940656e-324  4.940656e-324   \n",
       "3          vivo        w     8.1.0  4.940656e-324  4.940656e-324   \n",
       "4        xiaomi        w         9   1.167509e+02   3.656831e+01   \n",
       "\n",
       "  device_version             ts  \n",
       "0       STF-AL00  1573298086436  \n",
       "1       STF-AL00  1573298087570  \n",
       "2         V1818T  1573377075934  \n",
       "3         V1818T  1573377044359  \n",
       "4   Redmi Note 7  1573380989662  "
      ]
     },
     "execution_count": 10,
     "metadata": {},
     "output_type": "execute_result"
    }
   ],
   "source": [
    "all_data.head()"
   ]
  },
  {
   "cell_type": "code",
   "execution_count": 13,
   "metadata": {},
   "outputs": [],
   "source": [
    "from sklearn.feature_extraction.text import CountVectorizer,TfidfVectorizer,HashingVectorizer\n",
    "from sklearn.decomposition import TruncatedSVD,SparsePCA\n",
    "from sklearn.linear_model import LogisticRegression,BayesianRidge,SGDClassifier,PassiveAggressiveClassifier,RidgeClassifier\n",
    "from sklearn.naive_bayes import BernoulliNB, MultinomialNB\n",
    "from sklearn.ensemble import ExtraTreesClassifier,RandomForestClassifier\n",
    "from sklearn.neural_network import MLPClassifier\n",
    "from sklearn.svm import LinearSVC,NuSVC,SVC\n",
    "from sklearn.metrics import roc_auc_score,accuracy_score\n",
    "from sklearn.model_selection import KFold,StratifiedKFold,TimeSeriesSplit\n",
    "from scipy import sparse\n",
    "import xgboost as xgb\n",
    "import lightgbm as lgb\n",
    "import catboost as cbt\n",
    "\n",
    "def get_sklearn_embedding(now = None,fea = None,num_classes = 2,n_splits=5,ngram=1,prefix=None):\n",
    "    \n",
    "    if os.path.exists(\"../pickle/{}_tfidf_count_emb_all.pickle\".format(prefix)):\n",
    "        return pd.read_pickle(\"../pickle/{}_tfidf_count_emb_all.pickle\".format(prefix))\n",
    "    else:\n",
    "        df = now.copy()\n",
    "        df[fea] = df[fea].map(lambda x:\" \".join(x))\n",
    "        df = df.merge(all_data,how='right',on='deviceid')\n",
    "        print(df.head())\n",
    "        print(df.shape)\n",
    "        '''\n",
    "        TF-IDF(term frequency-inverse document frequency)词频-逆向文件频率。\n",
    "        字词的重要性与其在文本中出现的频率成正比(TF)，与其在语料库中出现的频率成反比(IDF)。\n",
    "        '''\n",
    "        tfidf = TfidfVectorizer(ngram_range=(1,ngram))\n",
    "        tf = tfidf.fit_transform(df[fea].fillna(\"##\").values)\n",
    "        '''\n",
    "        CountVectorizer会将文本中的词语转换为词频矩阵，\n",
    "        它通过fit_transform函数计算各个词语出现的次数\n",
    "        '''\n",
    "        count = CountVectorizer(ngram_range=(1,ngram))\n",
    "        cv = count.fit_transform(df[fea].fillna(\"##\").values)\n",
    "        all_ = sparse.csr_matrix(sparse.hstack([tf, cv]))\n",
    "        print(\"TFIDF & COUNT FINISHED...\")\n",
    "        \n",
    "        \n",
    "        tr = df['target'].notnull()\n",
    "        te = df['target'].isnull()\n",
    "        y = df[tr]['target']\n",
    "        X_train = all_[df[tr].index]\n",
    "        X_test = all_[df[te].index]\n",
    "        print(X_train.shape)\n",
    "        print(X_test.shape)\n",
    "\n",
    "        random_seed = 2019\n",
    "        model_zoo = [SGDClassifier(n_jobs=10,verbose=1),SGDClassifier(loss='log',n_jobs=10,verbose=1),\n",
    "                     SGDClassifier(loss='modified_huber',n_jobs=10,verbose=1),\n",
    "                     PassiveAggressiveClassifier(n_jobs=10,verbose=1),LogisticRegression(C=10),\n",
    "                     RidgeClassifier(solver='lsqr',fit_intercept=False),LinearSVC(verbose=1,max_iter=500),\n",
    "                     BernoulliNB(),MultinomialNB()]\n",
    "\n",
    "        columns = ['SGD_HINGE','SGD_LOG','SGD_HUBER','PAC','LR','RIDGE','LSVC','BNB','MNB']\n",
    "\n",
    "        oof = []\n",
    "        count = 0\n",
    "\n",
    "        for model in model_zoo:\n",
    "            t1 = time.time()\n",
    "            cv_pred_stack = np.zeros((X_train.shape[0],num_classes))\n",
    "            test_pred_stack = np.zeros((X_test.shape[0],num_classes))\n",
    "            skf = KFold(n_splits=n_splits,random_state=random_seed)\n",
    "            if os.path.exists(\"../pickle/{}_TFIDF_COUNT_{}.pickle\".format(prefix,columns[count])):\n",
    "                tmp = pd.read_pickle(\"../pickle/{}_TFIDF_COUNT_{}.pickle\".format(prefix,columns[count]))\n",
    "            else:\n",
    "                for index, (train_index, test_index) in enumerate(skf.split(X_train, y)):\n",
    "                    print(index,model)\n",
    "                    train_x, test_x, train_y, test_y = X_train[train_index], X_train[test_index], y.iloc[train_index], y.iloc[test_index]\n",
    "                    model.fit(train_x,train_y)\n",
    "                    try:\n",
    "                        y_val = model._predict_proba_lr(test_x)\n",
    "                    except:\n",
    "                        y_val = model.predict_proba(test_x)\n",
    "                    cv_pred_stack[test_index] = y_val\n",
    "                    print(y_val.shape)\n",
    "                    try:\n",
    "                        test_pred_stack += model._predict_proba_lr(X_test) / n_splits\n",
    "                    except:\n",
    "                        test_pred_stack += model.predict_proba(X_test) / n_splits\n",
    "                print(model,'score:',accuracy_score(y,np.argmax(cv_pred_stack,axis=1)))\n",
    "                print(time.time()-t1)\n",
    "                a = pd.DataFrame(cv_pred_stack).add_prefix(columns[count]+\"_\")\n",
    "                a['deviceid'] = df[tr]['deviceid'].values\n",
    "                b = pd.DataFrame(test_pred_stack).add_prefix(columns[count]+\"_\")\n",
    "                b['deviceid'] = df[te]['deviceid'].values\n",
    "                tmp = a.append(b).sort_values(by=['deviceid']).reset_index(drop=True)\n",
    "                tmp.to_pickle(\"../pickle/{}_TFIDF_COUNT_{}.pickle\".format(prefix,columns[count]))\n",
    "                \n",
    "            count += 1\n",
    "            oof.append(tmp)\n",
    "  \n",
    "        df_agg = pd.DataFrame()\n",
    "        for i in tqdm(oof):\n",
    "            df_agg[i.columns] = i\n",
    "        df_agg = df_agg.sort_values(by=['deviceid'],ascending=True)\n",
    "        df_agg.to_pickle(\"../pickle/{}_tfidf_count_emb_all.pickle\".format(prefix))\n",
    "    \n",
    "    return df_agg\n",
    "\n"
   ]
  },
  {
   "cell_type": "code",
   "execution_count": 14,
   "metadata": {},
   "outputs": [
    {
     "name": "stdout",
     "output_type": "stream",
     "text": [
      "                           deviceid        applist  app_len       id  target  \\\n",
      "0  000046581b8a28c431be90c278674925  app_133 app_1        2   267793     0.0   \n",
      "1  000046581b8a28c431be90c278674925  app_133 app_1        2   267794     0.0   \n",
      "2  000046581b8a28c431be90c278674925  app_133 app_1        2  1027164     0.0   \n",
      "3  000046581b8a28c431be90c278674925  app_133 app_1        2  1027165     1.0   \n",
      "4  000046581b8a28c431be90c278674925  app_133 app_1        2  1027166     0.0   \n",
      "\n",
      "      timestamp               newsid                              guid  pos  \\\n",
      "0           NaN  5560193608293752904  8162329d2d2ad3d13ce8535267901b42    4   \n",
      "1           NaN  7957896460416082441  8162329d2d2ad3d13ce8535267901b42    0   \n",
      "2           NaN  1511292148904879652  8162329d2d2ad3d13ce8535267901b42    1   \n",
      "3  1.573392e+12  5612171532368788498  8162329d2d2ad3d13ce8535267901b42    2   \n",
      "4           NaN   625815464017909362  8162329d2d2ad3d13ce8535267901b42    0   \n",
      "\n",
      "  app_version device_vendor netmodel osversion         lng        lat  \\\n",
      "0       2.1.5          OPPO        o     7.1.1  108.389546  30.812929   \n",
      "1       2.1.5          OPPO        o     7.1.1  108.389546  30.812929   \n",
      "2       2.1.5          OPPO        w     7.1.1  108.389546  30.812929   \n",
      "3       2.1.5          OPPO        o     7.1.1  108.389546  30.812929   \n",
      "4       2.1.5          OPPO        w     7.1.1  108.389747  30.805917   \n",
      "\n",
      "  device_version             ts  \n",
      "0       OPPO A77  1573391606906  \n",
      "1       OPPO A77  1573391628278  \n",
      "2       OPPO A77  1573395433736  \n",
      "3       OPPO A77  1573391521704  \n",
      "4       OPPO A77  1573380953968  \n",
      "(15030273, 17)\n"
     ]
    },
    {
     "ename": "MemoryError",
     "evalue": "",
     "output_type": "error",
     "traceback": [
      "\u001b[0;31m---------------------------------------------------------------------------\u001b[0m",
      "\u001b[0;31mMemoryError\u001b[0m                               Traceback (most recent call last)",
      "\u001b[0;32m<ipython-input-14-853fbe83e65b>\u001b[0m in \u001b[0;36m<module>\u001b[0;34m()\u001b[0m\n\u001b[0;32m----> 1\u001b[0;31m \u001b[0mprob_app_data\u001b[0m \u001b[0;34m=\u001b[0m \u001b[0mget_sklearn_embedding\u001b[0m\u001b[0;34m(\u001b[0m\u001b[0mnow\u001b[0m \u001b[0;34m=\u001b[0m \u001b[0mapp_data_nlp\u001b[0m\u001b[0;34m,\u001b[0m\u001b[0mfea\u001b[0m \u001b[0;34m=\u001b[0m \u001b[0;34m'applist'\u001b[0m\u001b[0;34m,\u001b[0m\u001b[0mn_splits\u001b[0m\u001b[0;34m=\u001b[0m\u001b[0;36m5\u001b[0m\u001b[0;34m,\u001b[0m\u001b[0mngram\u001b[0m\u001b[0;34m=\u001b[0m\u001b[0;36m1\u001b[0m\u001b[0;34m,\u001b[0m\u001b[0mprefix\u001b[0m\u001b[0;34m=\u001b[0m\u001b[0;34m'app_data'\u001b[0m\u001b[0;34m)\u001b[0m\u001b[0;34m\u001b[0m\u001b[0;34m\u001b[0m\u001b[0m\n\u001b[0m\u001b[1;32m      2\u001b[0m \u001b[0mprob_user_fav\u001b[0m \u001b[0;34m=\u001b[0m \u001b[0mget_sklearn_embedding\u001b[0m\u001b[0;34m(\u001b[0m\u001b[0mnow\u001b[0m \u001b[0;34m=\u001b[0m \u001b[0muser_fav_nlp\u001b[0m\u001b[0;34m,\u001b[0m\u001b[0mfea\u001b[0m \u001b[0;34m=\u001b[0m \u001b[0;34m'all_tag_word'\u001b[0m\u001b[0;34m,\u001b[0m\u001b[0mn_splits\u001b[0m\u001b[0;34m=\u001b[0m\u001b[0;36m5\u001b[0m\u001b[0;34m,\u001b[0m\u001b[0mngram\u001b[0m\u001b[0;34m=\u001b[0m\u001b[0;36m1\u001b[0m\u001b[0;34m,\u001b[0m\u001b[0mprefix\u001b[0m\u001b[0;34m=\u001b[0m\u001b[0;34m'user_fav'\u001b[0m\u001b[0;34m)\u001b[0m\u001b[0;34m\u001b[0m\u001b[0;34m\u001b[0m\u001b[0m\n",
      "\u001b[0;32m<ipython-input-13-581bdb696a0b>\u001b[0m in \u001b[0;36mget_sklearn_embedding\u001b[0;34m(now, fea, num_classes, n_splits, ngram, prefix)\u001b[0m\n\u001b[1;32m     34\u001b[0m         '''\n\u001b[1;32m     35\u001b[0m         \u001b[0mcount\u001b[0m \u001b[0;34m=\u001b[0m \u001b[0mCountVectorizer\u001b[0m\u001b[0;34m(\u001b[0m\u001b[0mngram_range\u001b[0m\u001b[0;34m=\u001b[0m\u001b[0;34m(\u001b[0m\u001b[0;36m1\u001b[0m\u001b[0;34m,\u001b[0m\u001b[0mngram\u001b[0m\u001b[0;34m)\u001b[0m\u001b[0;34m)\u001b[0m\u001b[0;34m\u001b[0m\u001b[0;34m\u001b[0m\u001b[0m\n\u001b[0;32m---> 36\u001b[0;31m         \u001b[0mcv\u001b[0m \u001b[0;34m=\u001b[0m \u001b[0mcount\u001b[0m\u001b[0;34m.\u001b[0m\u001b[0mfit_transform\u001b[0m\u001b[0;34m(\u001b[0m\u001b[0mdf\u001b[0m\u001b[0;34m[\u001b[0m\u001b[0mfea\u001b[0m\u001b[0;34m]\u001b[0m\u001b[0;34m.\u001b[0m\u001b[0mfillna\u001b[0m\u001b[0;34m(\u001b[0m\u001b[0;34m\"##\"\u001b[0m\u001b[0;34m)\u001b[0m\u001b[0;34m.\u001b[0m\u001b[0mvalues\u001b[0m\u001b[0;34m)\u001b[0m\u001b[0;34m\u001b[0m\u001b[0;34m\u001b[0m\u001b[0m\n\u001b[0m\u001b[1;32m     37\u001b[0m         \u001b[0mall_\u001b[0m \u001b[0;34m=\u001b[0m \u001b[0msparse\u001b[0m\u001b[0;34m.\u001b[0m\u001b[0mcsr_matrix\u001b[0m\u001b[0;34m(\u001b[0m\u001b[0msparse\u001b[0m\u001b[0;34m.\u001b[0m\u001b[0mhstack\u001b[0m\u001b[0;34m(\u001b[0m\u001b[0;34m[\u001b[0m\u001b[0mtf\u001b[0m\u001b[0;34m,\u001b[0m \u001b[0mcv\u001b[0m\u001b[0;34m]\u001b[0m\u001b[0;34m)\u001b[0m\u001b[0;34m)\u001b[0m\u001b[0;34m\u001b[0m\u001b[0;34m\u001b[0m\u001b[0m\n\u001b[1;32m     38\u001b[0m         \u001b[0mprint\u001b[0m\u001b[0;34m(\u001b[0m\u001b[0;34m\"TFIDF & COUNT FINISHED...\"\u001b[0m\u001b[0;34m)\u001b[0m\u001b[0;34m\u001b[0m\u001b[0;34m\u001b[0m\u001b[0m\n",
      "\u001b[0;32m~/.local/lib/python3.6/site-packages/sklearn/feature_extraction/text.py\u001b[0m in \u001b[0;36mfit_transform\u001b[0;34m(self, raw_documents, y)\u001b[0m\n\u001b[1;32m   1056\u001b[0m \u001b[0;34m\u001b[0m\u001b[0m\n\u001b[1;32m   1057\u001b[0m         vocabulary, X = self._count_vocab(raw_documents,\n\u001b[0;32m-> 1058\u001b[0;31m                                           self.fixed_vocabulary_)\n\u001b[0m\u001b[1;32m   1059\u001b[0m \u001b[0;34m\u001b[0m\u001b[0m\n\u001b[1;32m   1060\u001b[0m         \u001b[0;32mif\u001b[0m \u001b[0mself\u001b[0m\u001b[0;34m.\u001b[0m\u001b[0mbinary\u001b[0m\u001b[0;34m:\u001b[0m\u001b[0;34m\u001b[0m\u001b[0;34m\u001b[0m\u001b[0m\n",
      "\u001b[0;32m~/.local/lib/python3.6/site-packages/sklearn/feature_extraction/text.py\u001b[0m in \u001b[0;36m_count_vocab\u001b[0;34m(self, raw_documents, fixed_vocab)\u001b[0m\n\u001b[1;32m    979\u001b[0m                     \u001b[0;32mcontinue\u001b[0m\u001b[0;34m\u001b[0m\u001b[0;34m\u001b[0m\u001b[0m\n\u001b[1;32m    980\u001b[0m \u001b[0;34m\u001b[0m\u001b[0m\n\u001b[0;32m--> 981\u001b[0;31m             \u001b[0mj_indices\u001b[0m\u001b[0;34m.\u001b[0m\u001b[0mextend\u001b[0m\u001b[0;34m(\u001b[0m\u001b[0mfeature_counter\u001b[0m\u001b[0;34m.\u001b[0m\u001b[0mkeys\u001b[0m\u001b[0;34m(\u001b[0m\u001b[0;34m)\u001b[0m\u001b[0;34m)\u001b[0m\u001b[0;34m\u001b[0m\u001b[0;34m\u001b[0m\u001b[0m\n\u001b[0m\u001b[1;32m    982\u001b[0m             \u001b[0mvalues\u001b[0m\u001b[0;34m.\u001b[0m\u001b[0mextend\u001b[0m\u001b[0;34m(\u001b[0m\u001b[0mfeature_counter\u001b[0m\u001b[0;34m.\u001b[0m\u001b[0mvalues\u001b[0m\u001b[0;34m(\u001b[0m\u001b[0;34m)\u001b[0m\u001b[0;34m)\u001b[0m\u001b[0;34m\u001b[0m\u001b[0;34m\u001b[0m\u001b[0m\n\u001b[1;32m    983\u001b[0m             \u001b[0mindptr\u001b[0m\u001b[0;34m.\u001b[0m\u001b[0mappend\u001b[0m\u001b[0;34m(\u001b[0m\u001b[0mlen\u001b[0m\u001b[0;34m(\u001b[0m\u001b[0mj_indices\u001b[0m\u001b[0;34m)\u001b[0m\u001b[0;34m)\u001b[0m\u001b[0;34m\u001b[0m\u001b[0;34m\u001b[0m\u001b[0m\n",
      "\u001b[0;31mMemoryError\u001b[0m: "
     ]
    }
   ],
   "source": [
    "prob_app_data = get_sklearn_embedding(now = app_data_nlp,fea = 'applist',n_splits=5,ngram=1,prefix='app_data')\n",
    "prob_user_fav = get_sklearn_embedding(now = user_fav_nlp,fea = 'all_tag_word',n_splits=5,ngram=1,prefix='user_fav')"
   ]
  },
  {
   "cell_type": "code",
   "execution_count": null,
   "metadata": {},
   "outputs": [],
   "source": []
  }
 ],
 "metadata": {
  "kernelspec": {
   "display_name": "Python 3",
   "language": "python",
   "name": "python3"
  },
  "language_info": {
   "codemirror_mode": {
    "name": "ipython",
    "version": 3
   },
   "file_extension": ".py",
   "mimetype": "text/x-python",
   "name": "python",
   "nbconvert_exporter": "python",
   "pygments_lexer": "ipython3",
   "version": "3.6.8"
  }
 },
 "nbformat": 4,
 "nbformat_minor": 4
}
